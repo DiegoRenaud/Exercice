{
 "cells": [
  {
   "cell_type": "markdown",
   "id": "6f78be29-aff6-4898-b18c-25955a1721bf",
   "metadata": {},
   "source": [
    "# 🚂 **Analyse du réseau ferré de la SNCF: Comment expliquer les retards permanents de la compagnie française ?** 🚂"
   ]
  },
  {
   "cell_type": "markdown",
   "id": "d96d5e80-c977-4e7d-bbd3-51b05897c0eb",
   "metadata": {},
   "source": [
    "\n",
    "\n",
    "Comme tout bon étudiant provincial du plateau de Saclay, nous avons régulièrement eu à faire aux retards interminables des trains de la SNCF. A l'heure où le train est de plus en plus destiné à remplacer l'aviation civile ultra-polluante, nous avons voulu analyser l'évolution et les causes des retards que subissent fréquemment les usagers du réseau ferré français. \n",
    "\n",
    "Pour cela, nous avons basé notre analyse sur différentes bases de données rendues publiques et entretenues par la SNCF elle même. Ce travail a vocation à répondre aux exigences du cours de **Python pour la Data Science** de 2ème année de l'ENSAE Paris et reprend la même articulation en 3 axes: \n",
    "- Récupération et traitement des données\n",
    "- Analyse descriptive et représentation graphique\n",
    "- Modélisation \n",
    "\n",
    "Tout au long de ce notebook, nous ferons appel à des fonctions utiles définies dans le fichier **fonctions.py**. A la fin du travail d'analyse, nous vous proposons également un petit jeu intéractif bonus à ouvrir dans un autre éditeur de code que Jupyter. "
   ]
  },
  {
   "cell_type": "markdown",
   "id": "51cfd89d-0d39-43c1-ae24-77cfc083b738",
   "metadata": {
    "tags": []
   },
   "source": [
    "## **1. Récupération et Traitement des données de l'API de la SNCF**"
   ]
  },
  {
   "cell_type": "markdown",
   "id": "655156b8-f3cc-4500-9c86-f1bb1c4e84e0",
   "metadata": {},
   "source": [
    "On commence par importer les librairies et les fonction définies dans le fichier **fonction.py**"
   ]
  },
  {
   "cell_type": "code",
   "execution_count": 33,
   "id": "8f526473-5d40-49e7-89b3-769585cba1a3",
   "metadata": {},
   "outputs": [],
   "source": [
    "from fonctions import *"
   ]
  },
  {
   "cell_type": "markdown",
   "id": "376905ca-6fc2-4e71-847c-0599e4597695",
   "metadata": {},
   "source": [
    "Nous avons commencé notre travail sur le site de l'API SNCF *https://ressources.data.sncf.com/api/v2/console*. Il propose d'accéder à plus de 216 datasets qui regroupent différents types de données concernant la SNCF. Le premier fichier que nous avons étudié est le **Catalogue** qui présente tous les autres datasets disponnibles sur l'API. C'est à partir de ce Catalogue que nous avons pu identifier les différents datasets utiles à nos analyses."
   ]
  },
  {
   "cell_type": "code",
   "execution_count": 2,
   "id": "d47e1546-075a-4c88-822e-7287523a6a0c",
   "metadata": {},
   "outputs": [
    {
     "data": {
      "text/html": [
       "<div>\n",
       "<style scoped>\n",
       "    .dataframe tbody tr th:only-of-type {\n",
       "        vertical-align: middle;\n",
       "    }\n",
       "\n",
       "    .dataframe tbody tr th {\n",
       "        vertical-align: top;\n",
       "    }\n",
       "\n",
       "    .dataframe thead th {\n",
       "        text-align: right;\n",
       "    }\n",
       "</style>\n",
       "<table border=\"1\" class=\"dataframe\">\n",
       "  <thead>\n",
       "    <tr style=\"text-align: right;\">\n",
       "      <th></th>\n",
       "      <th>dataset_id</th>\n",
       "    </tr>\n",
       "  </thead>\n",
       "  <tbody>\n",
       "    <tr>\n",
       "      <th>0</th>\n",
       "      <td>rapports-irc</td>\n",
       "    </tr>\n",
       "    <tr>\n",
       "      <th>1</th>\n",
       "      <td>info-ges</td>\n",
       "    </tr>\n",
       "  </tbody>\n",
       "</table>\n",
       "</div>"
      ],
      "text/plain": [
       "     dataset_id\n",
       "0  rapports-irc\n",
       "1      info-ges"
      ]
     },
     "execution_count": 2,
     "metadata": {},
     "output_type": "execute_result"
    }
   ],
   "source": [
    "df_catalogue = importer(\"https://ressources.data.sncf.com/api/v2/catalog/exports/json?limit=-1&offset=0&timezone=UTC\")\n",
    "pd.DataFrame(df_catalogue['dataset_id']).head(2)"
   ]
  },
  {
   "cell_type": "markdown",
   "id": "b77e8995-1916-44e0-aa80-147ad407817b",
   "metadata": {},
   "source": [
    "### **1.1 Analyse du réseau ferré de la SNCF**"
   ]
  },
  {
   "cell_type": "markdown",
   "id": "b09ccb63-2205-4935-9c3f-7a4d717b65bb",
   "metadata": {},
   "source": [
    "Pour commencer notre analyse, nous avons voulu identifier les stations SNCF les plus fréquentées afin d'avoir une meilleure idée du maillage du réseau ferré français. Nous allons chercher les données qui nous interessent dans les datasets **liste_des_gares** et **frequentations_gares** disponnibles sur l'API de la SNCF.\n"
   ]
  },
  {
   "cell_type": "markdown",
   "id": "a723bd7c-8ccd-4a22-bac6-dd654f07fe18",
   "metadata": {},
   "source": [
    "#### **1.1.1 Importation des données**"
   ]
  },
  {
   "cell_type": "code",
   "execution_count": 3,
   "id": "30c35adc-7c0e-4e98-b2db-08de9b902ab3",
   "metadata": {},
   "outputs": [
    {
     "data": {
      "text/html": [
       "<div>\n",
       "<style scoped>\n",
       "    .dataframe tbody tr th:only-of-type {\n",
       "        vertical-align: middle;\n",
       "    }\n",
       "\n",
       "    .dataframe tbody tr th {\n",
       "        vertical-align: top;\n",
       "    }\n",
       "\n",
       "    .dataframe thead th {\n",
       "        text-align: right;\n",
       "    }\n",
       "</style>\n",
       "<table border=\"1\" class=\"dataframe\">\n",
       "  <thead>\n",
       "    <tr style=\"text-align: right;\">\n",
       "      <th></th>\n",
       "      <th>code_uic</th>\n",
       "      <th>libelle</th>\n",
       "      <th>fret</th>\n",
       "      <th>voyageurs</th>\n",
       "      <th>code_ligne</th>\n",
       "      <th>rg_troncon</th>\n",
       "      <th>pk</th>\n",
       "      <th>commune</th>\n",
       "      <th>departemen</th>\n",
       "      <th>idreseau</th>\n",
       "      <th>idgaia</th>\n",
       "      <th>x_l93</th>\n",
       "      <th>y_l93</th>\n",
       "      <th>x_wgs84</th>\n",
       "      <th>y_wgs84</th>\n",
       "      <th>c_geo</th>\n",
       "      <th>geo_point_2d</th>\n",
       "      <th>geo_shape</th>\n",
       "    </tr>\n",
       "  </thead>\n",
       "  <tbody>\n",
       "    <tr>\n",
       "      <th>0</th>\n",
       "      <td>87755223</td>\n",
       "      <td>Bandol</td>\n",
       "      <td>N</td>\n",
       "      <td>O</td>\n",
       "      <td>930000</td>\n",
       "      <td>1</td>\n",
       "      <td>050+607</td>\n",
       "      <td>BANDOL</td>\n",
       "      <td>VAR</td>\n",
       "      <td>3077</td>\n",
       "      <td>29a5a626-dfbc-11e3-a2ff-01a464e0362d</td>\n",
       "      <td>923833.7169</td>\n",
       "      <td>6.230702e+06</td>\n",
       "      <td>5.749816</td>\n",
       "      <td>43.140491</td>\n",
       "      <td>{'lon': 5.749815526229215, 'lat': 43.140491048...</td>\n",
       "      <td>{'lon': 5.749815526229215, 'lat': 43.140491047...</td>\n",
       "      <td>{'type': 'Feature', 'geometry': {'coordinates'...</td>\n",
       "    </tr>\n",
       "    <tr>\n",
       "      <th>1</th>\n",
       "      <td>87696179</td>\n",
       "      <td>Pouilly-sur-Loire</td>\n",
       "      <td>O</td>\n",
       "      <td>O</td>\n",
       "      <td>750000</td>\n",
       "      <td>1</td>\n",
       "      <td>214+004</td>\n",
       "      <td>POUILLY-SUR-LOIRE</td>\n",
       "      <td>NIEVRE</td>\n",
       "      <td>6141</td>\n",
       "      <td>297a4c76-dfbc-11e3-a2ff-01a464e0362d</td>\n",
       "      <td>697358.2537</td>\n",
       "      <td>6.686913e+06</td>\n",
       "      <td>2.965051</td>\n",
       "      <td>47.282528</td>\n",
       "      <td>{'lon': 2.965051211539136, 'lat': 47.282528482...</td>\n",
       "      <td>{'lon': 2.965051211539134, 'lat': 47.282528481...</td>\n",
       "      <td>{'type': 'Feature', 'geometry': {'coordinates'...</td>\n",
       "    </tr>\n",
       "  </tbody>\n",
       "</table>\n",
       "</div>"
      ],
      "text/plain": [
       "   code_uic            libelle fret voyageurs code_ligne  rg_troncon       pk  \\\n",
       "0  87755223             Bandol    N         O     930000           1  050+607   \n",
       "1  87696179  Pouilly-sur-Loire    O         O     750000           1  214+004   \n",
       "\n",
       "             commune departemen  idreseau  \\\n",
       "0             BANDOL        VAR      3077   \n",
       "1  POUILLY-SUR-LOIRE     NIEVRE      6141   \n",
       "\n",
       "                                 idgaia        x_l93         y_l93   x_wgs84  \\\n",
       "0  29a5a626-dfbc-11e3-a2ff-01a464e0362d  923833.7169  6.230702e+06  5.749816   \n",
       "1  297a4c76-dfbc-11e3-a2ff-01a464e0362d  697358.2537  6.686913e+06  2.965051   \n",
       "\n",
       "     y_wgs84                                              c_geo  \\\n",
       "0  43.140491  {'lon': 5.749815526229215, 'lat': 43.140491048...   \n",
       "1  47.282528  {'lon': 2.965051211539136, 'lat': 47.282528482...   \n",
       "\n",
       "                                        geo_point_2d  \\\n",
       "0  {'lon': 5.749815526229215, 'lat': 43.140491047...   \n",
       "1  {'lon': 2.965051211539134, 'lat': 47.282528481...   \n",
       "\n",
       "                                           geo_shape  \n",
       "0  {'type': 'Feature', 'geometry': {'coordinates'...  \n",
       "1  {'type': 'Feature', 'geometry': {'coordinates'...  "
      ]
     },
     "execution_count": 3,
     "metadata": {},
     "output_type": "execute_result"
    }
   ],
   "source": [
    "#importation de la liste des gares, API SNCF\n",
    "df_gares = importer(\"https://ressources.data.sncf.com/api/v2/catalog/datasets/liste-des-gares/exports/json?limit=-1&offset=0&timezone=UTC\")\n",
    "df_gares.head(2)"
   ]
  },
  {
   "cell_type": "code",
   "execution_count": 4,
   "id": "ac489a0a-fc00-4ebe-aed9-5f5c6cd5374a",
   "metadata": {},
   "outputs": [
    {
     "data": {
      "text/html": [
       "<div>\n",
       "<style scoped>\n",
       "    .dataframe tbody tr th:only-of-type {\n",
       "        vertical-align: middle;\n",
       "    }\n",
       "\n",
       "    .dataframe tbody tr th {\n",
       "        vertical-align: top;\n",
       "    }\n",
       "\n",
       "    .dataframe thead th {\n",
       "        text-align: right;\n",
       "    }\n",
       "</style>\n",
       "<table border=\"1\" class=\"dataframe\">\n",
       "  <thead>\n",
       "    <tr style=\"text-align: right;\">\n",
       "      <th></th>\n",
       "      <th>nom_gare</th>\n",
       "      <th>code_uic_complet</th>\n",
       "      <th>code_postal</th>\n",
       "      <th>segmentation_drg</th>\n",
       "      <th>total_voyageurs_2021</th>\n",
       "      <th>total_voyageurs_non_voyageurs_2021</th>\n",
       "      <th>total_voyageurs_2020</th>\n",
       "      <th>total_voyageurs_non_voyageurs_2020</th>\n",
       "      <th>total_voyageurs_2019</th>\n",
       "      <th>total_voyageurs_non_voyageurs_2019</th>\n",
       "      <th>total_voyageurs_2018</th>\n",
       "      <th>total_voyageurs_non_voyageurs_2018</th>\n",
       "      <th>totalvoyageurs2017</th>\n",
       "      <th>total_voyageurs_non_voyageurs_2017</th>\n",
       "      <th>total_voyageurs_2016</th>\n",
       "      <th>total_voyageurs_non_voyageurs_2016</th>\n",
       "      <th>total_voyageurs_2015</th>\n",
       "      <th>total_voyageurs_non_voyageurs_2015</th>\n",
       "    </tr>\n",
       "  </thead>\n",
       "  <tbody>\n",
       "    <tr>\n",
       "      <th>0</th>\n",
       "      <td>Abbaretz</td>\n",
       "      <td>87481614</td>\n",
       "      <td>44170</td>\n",
       "      <td>c</td>\n",
       "      <td>27466</td>\n",
       "      <td>27466</td>\n",
       "      <td>22773</td>\n",
       "      <td>22773</td>\n",
       "      <td>38473</td>\n",
       "      <td>38473</td>\n",
       "      <td>38027</td>\n",
       "      <td>38027</td>\n",
       "      <td>35637</td>\n",
       "      <td>35637</td>\n",
       "      <td>33021</td>\n",
       "      <td>33021</td>\n",
       "      <td>35989</td>\n",
       "      <td>35989</td>\n",
       "    </tr>\n",
       "    <tr>\n",
       "      <th>1</th>\n",
       "      <td>Agay</td>\n",
       "      <td>87757559</td>\n",
       "      <td>83530</td>\n",
       "      <td>c</td>\n",
       "      <td>25094</td>\n",
       "      <td>25094</td>\n",
       "      <td>15390</td>\n",
       "      <td>15390</td>\n",
       "      <td>22284</td>\n",
       "      <td>22284</td>\n",
       "      <td>15093</td>\n",
       "      <td>15093</td>\n",
       "      <td>14154</td>\n",
       "      <td>14154</td>\n",
       "      <td>19240</td>\n",
       "      <td>19240</td>\n",
       "      <td>19121</td>\n",
       "      <td>19121</td>\n",
       "    </tr>\n",
       "  </tbody>\n",
       "</table>\n",
       "</div>"
      ],
      "text/plain": [
       "   nom_gare code_uic_complet code_postal segmentation_drg  \\\n",
       "0  Abbaretz         87481614       44170                c   \n",
       "1      Agay         87757559       83530                c   \n",
       "\n",
       "   total_voyageurs_2021  total_voyageurs_non_voyageurs_2021  \\\n",
       "0                 27466                               27466   \n",
       "1                 25094                               25094   \n",
       "\n",
       "   total_voyageurs_2020  total_voyageurs_non_voyageurs_2020  \\\n",
       "0                 22773                               22773   \n",
       "1                 15390                               15390   \n",
       "\n",
       "   total_voyageurs_2019  total_voyageurs_non_voyageurs_2019  \\\n",
       "0                 38473                               38473   \n",
       "1                 22284                               22284   \n",
       "\n",
       "   total_voyageurs_2018  total_voyageurs_non_voyageurs_2018  \\\n",
       "0                 38027                               38027   \n",
       "1                 15093                               15093   \n",
       "\n",
       "   totalvoyageurs2017  total_voyageurs_non_voyageurs_2017  \\\n",
       "0               35637                               35637   \n",
       "1               14154                               14154   \n",
       "\n",
       "   total_voyageurs_2016  total_voyageurs_non_voyageurs_2016  \\\n",
       "0                 33021                               33021   \n",
       "1                 19240                               19240   \n",
       "\n",
       "   total_voyageurs_2015  total_voyageurs_non_voyageurs_2015  \n",
       "0                 35989                               35989  \n",
       "1                 19121                               19121  "
      ]
     },
     "execution_count": 4,
     "metadata": {},
     "output_type": "execute_result"
    }
   ],
   "source": [
    "#importation des données sur la frequentation des gares, API SNCF\n",
    "df_freq_gares = importer(\"https://ressources.data.sncf.com/api/v2/catalog/datasets/frequentation-gares/exports/json?limit=-1&offset=0&timezone=UTC\")\n",
    "df_freq_gares.head(2)"
   ]
  },
  {
   "cell_type": "code",
   "execution_count": 5,
   "id": "5ba74b2f-0734-4be0-8661-4574ba2b4f0f",
   "metadata": {},
   "outputs": [
    {
     "name": "stdout",
     "output_type": "stream",
     "text": [
      "2970\n",
      "3819\n"
     ]
    }
   ],
   "source": [
    "#comparaison du nombre de données (moins de données sur la fréquentation)\n",
    "print(len(df_freq_gares))\n",
    "print(len(df_gares))"
   ]
  },
  {
   "cell_type": "markdown",
   "id": "9881017c-814f-4702-87b4-c525b5e2c123",
   "metadata": {},
   "source": [
    "#### **1.1.2 Constitution de la base de données (nettoyage, fusion, et concaténation de données)**"
   ]
  },
  {
   "cell_type": "markdown",
   "id": "8a9ee250-8e52-4c13-bb9c-34e83dc3665c",
   "metadata": {},
   "source": [
    "On va travailler sur les 2 datasets importés afin de créer notre base de données des gares SNCF les plus fréquentées."
   ]
  },
  {
   "cell_type": "code",
   "execution_count": 6,
   "id": "8d956437-f3e6-4e42-879b-4c910f56dabe",
   "metadata": {},
   "outputs": [],
   "source": [
    "#Harmonisation du nom de la colonne code_uic en vue du merge\n",
    "df_freq_gares.rename(columns = {'code_uic_complet':'code_uic'}, inplace = True)"
   ]
  },
  {
   "cell_type": "code",
   "execution_count": 7,
   "id": "1f02ca9f-5bf3-457f-9d45-b560b16f2755",
   "metadata": {},
   "outputs": [
    {
     "data": {
      "text/html": [
       "<div>\n",
       "<style scoped>\n",
       "    .dataframe tbody tr th:only-of-type {\n",
       "        vertical-align: middle;\n",
       "    }\n",
       "\n",
       "    .dataframe tbody tr th {\n",
       "        vertical-align: top;\n",
       "    }\n",
       "\n",
       "    .dataframe thead th {\n",
       "        text-align: right;\n",
       "    }\n",
       "</style>\n",
       "<table border=\"1\" class=\"dataframe\">\n",
       "  <thead>\n",
       "    <tr style=\"text-align: right;\">\n",
       "      <th></th>\n",
       "      <th>code_uic</th>\n",
       "      <th>libelle</th>\n",
       "    </tr>\n",
       "  </thead>\n",
       "  <tbody>\n",
       "    <tr>\n",
       "      <th>3</th>\n",
       "      <td>87784488</td>\n",
       "      <td>Cases-de-Pène</td>\n",
       "    </tr>\n",
       "    <tr>\n",
       "      <th>12</th>\n",
       "      <td>87396671</td>\n",
       "      <td>La Chartre-sur-le-Loir</td>\n",
       "    </tr>\n",
       "  </tbody>\n",
       "</table>\n",
       "</div>"
      ],
      "text/plain": [
       "    code_uic                 libelle\n",
       "3   87784488           Cases-de-Pène\n",
       "12  87396671  La Chartre-sur-le-Loir"
      ]
     },
     "execution_count": 7,
     "metadata": {},
     "output_type": "execute_result"
    }
   ],
   "source": [
    "#On regarde quelles gares du dataframe \"liste des gares\" ne sont pas dans le dataframe \"frequentations\"\n",
    "outer_merged = pd.merge(df_gares, df_freq_gares, how=\"outer\", on=[\"code_uic\"])\n",
    "outer_merged[outer_merged['nom_gare'].isna()==True][['code_uic', 'libelle']].head(2)"
   ]
  },
  {
   "cell_type": "markdown",
   "id": "f2b4b79d-aabb-4757-b023-5cdd190bbbc6",
   "metadata": {},
   "source": [
    "Ce ne sont que des petites gares et comme nous nous intéressons aux gares les plus fréquentées, non allons considérer seulement celles du dataset des fréquentation."
   ]
  },
  {
   "cell_type": "code",
   "execution_count": 8,
   "id": "a0dca828-7205-4f9b-ad1d-85299568a185",
   "metadata": {},
   "outputs": [
    {
     "data": {
      "text/html": [
       "<div>\n",
       "<style scoped>\n",
       "    .dataframe tbody tr th:only-of-type {\n",
       "        vertical-align: middle;\n",
       "    }\n",
       "\n",
       "    .dataframe tbody tr th {\n",
       "        vertical-align: top;\n",
       "    }\n",
       "\n",
       "    .dataframe thead th {\n",
       "        text-align: right;\n",
       "    }\n",
       "</style>\n",
       "<table border=\"1\" class=\"dataframe\">\n",
       "  <thead>\n",
       "    <tr style=\"text-align: right;\">\n",
       "      <th></th>\n",
       "      <th>code_uic</th>\n",
       "      <th>total_voyageurs_non_voyageurs_2020</th>\n",
       "      <th>nom_gare</th>\n",
       "      <th>x_wgs84</th>\n",
       "      <th>y_wgs84</th>\n",
       "    </tr>\n",
       "  </thead>\n",
       "  <tbody>\n",
       "    <tr>\n",
       "      <th>0</th>\n",
       "      <td>87481614</td>\n",
       "      <td>22773</td>\n",
       "      <td>Abbaretz</td>\n",
       "      <td>-1.524313</td>\n",
       "      <td>47.555462</td>\n",
       "    </tr>\n",
       "    <tr>\n",
       "      <th>1</th>\n",
       "      <td>87757559</td>\n",
       "      <td>15390</td>\n",
       "      <td>Agay</td>\n",
       "      <td>6.856677</td>\n",
       "      <td>43.431734</td>\n",
       "    </tr>\n",
       "  </tbody>\n",
       "</table>\n",
       "</div>"
      ],
      "text/plain": [
       "   code_uic  total_voyageurs_non_voyageurs_2020  nom_gare   x_wgs84    y_wgs84\n",
       "0  87481614                               22773  Abbaretz -1.524313  47.555462\n",
       "1  87757559                               15390      Agay  6.856677  43.431734"
      ]
     },
     "execution_count": 8,
     "metadata": {},
     "output_type": "execute_result"
    }
   ],
   "source": [
    "#Fusion des dataframes sur la base de df_freq_gares avec un left merge\n",
    "left_merged = pd.merge(df_freq_gares, df_gares, how=\"left\", on=[\"code_uic\"])\n",
    "df_gares_merged = left_merged[['code_uic','total_voyageurs_non_voyageurs_2020', 'nom_gare', 'x_wgs84','y_wgs84']]\n",
    "df_gares_merged.head(2)"
   ]
  },
  {
   "cell_type": "code",
   "execution_count": 9,
   "id": "40d12d16-19cd-4d1d-9c7c-bcdb8c2d04e8",
   "metadata": {},
   "outputs": [],
   "source": [
    "#Elimination des gares dont la frequentation est nulle\n",
    "df_gares_merged = df_gares_merged.drop(df_gares_merged[df_gares_merged['total_voyageurs_non_voyageurs_2020']==0].index)"
   ]
  },
  {
   "cell_type": "code",
   "execution_count": 10,
   "id": "8aec30f3-5f36-47fa-ac6a-af1c1f26e4d8",
   "metadata": {},
   "outputs": [
    {
     "data": {
      "image/png": "[encoded data removed]",
      "text/plain": [
       "<Figure size 640x480 with 1 Axes>"
      ]
     },
     "metadata": {},
     "output_type": "display_data"
    }
   ],
   "source": [
    "#Visualisation de la répartition des fréquentations par gare\n",
    "plt.hist(df_gares_merged['total_voyageurs_non_voyageurs_2020'])\n",
    "plt.show()"
   ]
  },
  {
   "cell_type": "markdown",
   "id": "c8b3fdf8-d1d2-4e0e-9748-64e97e23d63a",
   "metadata": {},
   "source": [
    "On remarque que pour mieux apprécier les fréquentations, il est nécessaire de passer au log."
   ]
  },
  {
   "cell_type": "code",
   "execution_count": 12,
   "id": "228f7fd8-3dc9-4757-adeb-2ee2ce61eb82",
   "metadata": {},
   "outputs": [
    {
     "data": {
      "image/png": "[encoded data removed]",
      "text/plain": [
       "<Figure size 640x480 with 1 Axes>"
      ]
     },
     "metadata": {},
     "output_type": "display_data"
    }
   ],
   "source": [
    "df_gares_merged['log_total_voyageurs_non_voyageurs_2020'] = np.log(df_gares_merged['total_voyageurs_non_voyageurs_2020'])\n",
    "plt.hist(df_gares_merged['log_total_voyageurs_non_voyageurs_2020'])\n",
    "plt.show()"
   ]
  },
  {
   "cell_type": "code",
   "execution_count": 13,
   "id": "b8fdcf70-f10a-4fa9-ad7c-0b7b2f203206",
   "metadata": {},
   "outputs": [],
   "source": [
    "#Application d'un filtre sur les frequentations : on ne garde que les gares les plus frequentées\n",
    "df_gares_principales = df_gares_merged[df_gares_merged['log_total_voyageurs_non_voyageurs_2020']>= 14]"
   ]
  },
  {
   "cell_type": "markdown",
   "id": "7d0cc6e0-e86e-4d2d-89c1-d429f778a1e8",
   "metadata": {},
   "source": [
    "On regarde maintenant les gares très fréquentées pour lesquelles il nous manque les coordonnées GPS. A savoir, les gares qui sont des le dataset des fréquentations mais pas dans celui de la liste des gares."
   ]
  },
  {
   "cell_type": "code",
   "execution_count": 14,
   "id": "738673b5-bb06-4246-85b4-fbbab175525e",
   "metadata": {},
   "outputs": [
    {
     "data": {
      "text/html": [
       "<div>\n",
       "<style scoped>\n",
       "    .dataframe tbody tr th:only-of-type {\n",
       "        vertical-align: middle;\n",
       "    }\n",
       "\n",
       "    .dataframe tbody tr th {\n",
       "        vertical-align: top;\n",
       "    }\n",
       "\n",
       "    .dataframe thead th {\n",
       "        text-align: right;\n",
       "    }\n",
       "</style>\n",
       "<table border=\"1\" class=\"dataframe\">\n",
       "  <thead>\n",
       "    <tr style=\"text-align: right;\">\n",
       "      <th></th>\n",
       "      <th>code_uic</th>\n",
       "      <th>total_voyageurs_non_voyageurs_2020</th>\n",
       "      <th>nom_gare</th>\n",
       "      <th>x_wgs84</th>\n",
       "      <th>y_wgs84</th>\n",
       "      <th>log_total_voyageurs_non_voyageurs_2020</th>\n",
       "    </tr>\n",
       "  </thead>\n",
       "  <tbody>\n",
       "    <tr>\n",
       "      <th>381</th>\n",
       "      <td>87756403</td>\n",
       "      <td>4085871</td>\n",
       "      <td>Monaco-Monte-Carlo</td>\n",
       "      <td>NaN</td>\n",
       "      <td>NaN</td>\n",
       "      <td>15.223045</td>\n",
       "    </tr>\n",
       "    <tr>\n",
       "      <th>650</th>\n",
       "      <td>87113795</td>\n",
       "      <td>3664906</td>\n",
       "      <td>Villiers-sur-Marne - Le Plessis-Trévise</td>\n",
       "      <td>NaN</td>\n",
       "      <td>NaN</td>\n",
       "      <td>15.114313</td>\n",
       "    </tr>\n",
       "  </tbody>\n",
       "</table>\n",
       "</div>"
      ],
      "text/plain": [
       "     code_uic  total_voyageurs_non_voyageurs_2020  \\\n",
       "381  87756403                             4085871   \n",
       "650  87113795                             3664906   \n",
       "\n",
       "                                    nom_gare  x_wgs84  y_wgs84  \\\n",
       "381                       Monaco-Monte-Carlo      NaN      NaN   \n",
       "650  Villiers-sur-Marne - Le Plessis-Trévise      NaN      NaN   \n",
       "\n",
       "     log_total_voyageurs_non_voyageurs_2020  \n",
       "381                               15.223045  \n",
       "650                               15.114313  "
      ]
     },
     "execution_count": 14,
     "metadata": {},
     "output_type": "execute_result"
    }
   ],
   "source": [
    "df_gares_manquantes  = df_gares_principales[df_gares_principales['x_wgs84'].isna()==True]\n",
    "df_gares_manquantes.head(2)"
   ]
  },
  {
   "cell_type": "markdown",
   "id": "5f854c80-0315-4591-a2cd-34e0dd1cf3c1",
   "metadata": {},
   "source": [
    "- **Problème** : il nous manque les données GPS de gares importantes (la gare de Paris EST par exemple)\n",
    "- **Solution** : ces gares étant -presque- toutes situées en région Ile de France (idf) on va aller chercher ces données sur l'API de la région idf.\n",
    "\n",
    "On sort donc les données manquantes de ce dataframe et on va aller les chercher sur l'API idf (il nous manquera tout de même la gare de Monaco mais nous allons l'omettre car il ne s'agit que d'une gare et que Monaco n'est pas en France à proprement parlé)."
   ]
  },
  {
   "cell_type": "code",
   "execution_count": 15,
   "id": "d8439a75-81b1-414e-a0a9-efca78fe49fa",
   "metadata": {},
   "outputs": [
    {
     "data": {
      "text/html": [
       "<div>\n",
       "<style scoped>\n",
       "    .dataframe tbody tr th:only-of-type {\n",
       "        vertical-align: middle;\n",
       "    }\n",
       "\n",
       "    .dataframe tbody tr th {\n",
       "        vertical-align: top;\n",
       "    }\n",
       "\n",
       "    .dataframe thead th {\n",
       "        text-align: right;\n",
       "    }\n",
       "</style>\n",
       "<table border=\"1\" class=\"dataframe\">\n",
       "  <thead>\n",
       "    <tr style=\"text-align: right;\">\n",
       "      <th></th>\n",
       "      <th>code_uic</th>\n",
       "      <th>total_voyageurs_non_voyageurs_2020</th>\n",
       "      <th>nom_gare</th>\n",
       "      <th>x_wgs84</th>\n",
       "      <th>y_wgs84</th>\n",
       "      <th>log_total_voyageurs_non_voyageurs_2020</th>\n",
       "    </tr>\n",
       "  </thead>\n",
       "  <tbody>\n",
       "    <tr>\n",
       "      <th>5</th>\n",
       "      <td>87741132</td>\n",
       "      <td>1236162</td>\n",
       "      <td>Aix-les-Bains le Revard</td>\n",
       "      <td>5.908901</td>\n",
       "      <td>45.688112</td>\n",
       "      <td>14.027522</td>\n",
       "    </tr>\n",
       "    <tr>\n",
       "      <th>6</th>\n",
       "      <td>87741132</td>\n",
       "      <td>1236162</td>\n",
       "      <td>Aix-les-Bains le Revard</td>\n",
       "      <td>5.908892</td>\n",
       "      <td>45.688219</td>\n",
       "      <td>14.027522</td>\n",
       "    </tr>\n",
       "  </tbody>\n",
       "</table>\n",
       "</div>"
      ],
      "text/plain": [
       "   code_uic  total_voyageurs_non_voyageurs_2020                 nom_gare  \\\n",
       "5  87741132                             1236162  Aix-les-Bains le Revard   \n",
       "6  87741132                             1236162  Aix-les-Bains le Revard   \n",
       "\n",
       "    x_wgs84    y_wgs84  log_total_voyageurs_non_voyageurs_2020  \n",
       "5  5.908901  45.688112                               14.027522  \n",
       "6  5.908892  45.688219                               14.027522  "
      ]
     },
     "execution_count": 15,
     "metadata": {},
     "output_type": "execute_result"
    }
   ],
   "source": [
    "#Elimination des gares dont on ne connait pas la fréquentation\n",
    "df_gares_principales = df_gares_principales[df_gares_principales['x_wgs84'].isna()==False]\n",
    "df_gares_principales.head(2)"
   ]
  },
  {
   "cell_type": "code",
   "execution_count": 16,
   "id": "8437a06c-306f-46f7-9785-4e06506eade7",
   "metadata": {},
   "outputs": [
    {
     "data": {
      "text/html": [
       "<div>\n",
       "<style scoped>\n",
       "    .dataframe tbody tr th:only-of-type {\n",
       "        vertical-align: middle;\n",
       "    }\n",
       "\n",
       "    .dataframe tbody tr th {\n",
       "        vertical-align: top;\n",
       "    }\n",
       "\n",
       "    .dataframe thead th {\n",
       "        text-align: right;\n",
       "    }\n",
       "</style>\n",
       "<table border=\"1\" class=\"dataframe\">\n",
       "  <thead>\n",
       "    <tr style=\"text-align: right;\">\n",
       "      <th></th>\n",
       "      <th>code_uic</th>\n",
       "      <th>uic7</th>\n",
       "      <th>libelle_point_d_arret</th>\n",
       "      <th>libelle</th>\n",
       "      <th>libelle_stif_info_voyageurs</th>\n",
       "      <th>libelle_sms_gare</th>\n",
       "      <th>nom_gare</th>\n",
       "      <th>adresse</th>\n",
       "      <th>code_insee_commune</th>\n",
       "      <th>commune</th>\n",
       "      <th>x_lambert_ii_etendu</th>\n",
       "      <th>y_lambert_ii_etendu</th>\n",
       "      <th>coord_gps_wgs84</th>\n",
       "      <th>zone_navigo</th>\n",
       "      <th>gare_non_sncf</th>\n",
       "    </tr>\n",
       "  </thead>\n",
       "  <tbody>\n",
       "    <tr>\n",
       "      <th>62</th>\n",
       "      <td>87113209</td>\n",
       "      <td>871132</td>\n",
       "      <td>PANTIN</td>\n",
       "      <td>PANTIN</td>\n",
       "      <td>GARE DE PANTIN</td>\n",
       "      <td>Pantin</td>\n",
       "      <td>Pantin</td>\n",
       "      <td>Avenue de la gare 93500 Pantin</td>\n",
       "      <td>93055</td>\n",
       "      <td>[Pantin]</td>\n",
       "      <td>604688.0</td>\n",
       "      <td>2433279.0</td>\n",
       "      <td>{'lon': 2.40040674765, 'lat': 48.8977738494}</td>\n",
       "      <td>2.0</td>\n",
       "      <td>0.0</td>\n",
       "    </tr>\n",
       "    <tr>\n",
       "      <th>166</th>\n",
       "      <td>87116038</td>\n",
       "      <td>871160</td>\n",
       "      <td>ROISSY EN BRIE</td>\n",
       "      <td>ROISSY EN BRIE</td>\n",
       "      <td>GARE DE ROISSY EN BRIE</td>\n",
       "      <td>Roissy en B.</td>\n",
       "      <td>Roissy-en-Brie</td>\n",
       "      <td>Place de la gare 77680 Roissy-en-Brie</td>\n",
       "      <td>77390</td>\n",
       "      <td>[Roissy-en-Brie]</td>\n",
       "      <td>623033.0</td>\n",
       "      <td>2421933.0</td>\n",
       "      <td>{'lon': 2.64984936854, 'lat': 48.7954076773}</td>\n",
       "      <td>5.0</td>\n",
       "      <td>0.0</td>\n",
       "    </tr>\n",
       "  </tbody>\n",
       "</table>\n",
       "</div>"
      ],
      "text/plain": [
       "     code_uic    uic7 libelle_point_d_arret         libelle  \\\n",
       "62   87113209  871132                PANTIN          PANTIN   \n",
       "166  87116038  871160        ROISSY EN BRIE  ROISSY EN BRIE   \n",
       "\n",
       "    libelle_stif_info_voyageurs libelle_sms_gare        nom_gare  \\\n",
       "62               GARE DE PANTIN           Pantin          Pantin   \n",
       "166      GARE DE ROISSY EN BRIE     Roissy en B.  Roissy-en-Brie   \n",
       "\n",
       "                                   adresse code_insee_commune  \\\n",
       "62          Avenue de la gare 93500 Pantin              93055   \n",
       "166  Place de la gare 77680 Roissy-en-Brie              77390   \n",
       "\n",
       "              commune  x_lambert_ii_etendu  y_lambert_ii_etendu  \\\n",
       "62           [Pantin]             604688.0            2433279.0   \n",
       "166  [Roissy-en-Brie]             623033.0            2421933.0   \n",
       "\n",
       "                                  coord_gps_wgs84  zone_navigo  gare_non_sncf  \n",
       "62   {'lon': 2.40040674765, 'lat': 48.8977738494}          2.0            0.0  \n",
       "166  {'lon': 2.64984936854, 'lat': 48.7954076773}          5.0            0.0  "
      ]
     },
     "execution_count": 16,
     "metadata": {},
     "output_type": "execute_result"
    }
   ],
   "source": [
    "#Récupération des données manquantes (sauf Monaco) grâce à l'API de la région idf\n",
    "df_region_idf_initial = importer(\"https://data.iledefrance.fr/api/v2/catalog/datasets/gares-et-points-darrets-du-reseau-transilien/exports/json?limit=-1&offset=0&timezone=UTC\")\n",
    "\n",
    "#On se restreint aux gares dont les données geographiques sont manquantes dans le dataframe des gares principales\n",
    "df_region_idf = df_region_idf_initial[df_region_idf_initial.code_uic.isin(df_gares_manquantes['code_uic'])==True]\n",
    "df_region_idf.head(2)"
   ]
  },
  {
   "cell_type": "markdown",
   "id": "8da3ed3b-f5ad-466d-afad-b3a322f7b89c",
   "metadata": {},
   "source": [
    "**Remarque :** il nous manque encore la gare du Nord. En allant chercher manuellement la ligne correspondante, on remarque que c'est parce que le code uic est erroné (le code uic est différent dans les 2 bases). Après recherches, le vrai code uic est celui de la base idf. On le rectifie manuellement."
   ]
  },
  {
   "cell_type": "code",
   "execution_count": 17,
   "id": "1c0e00bb-b141-4be6-b22a-c4adb932f557",
   "metadata": {},
   "outputs": [
    {
     "name": "stdout",
     "output_type": "stream",
     "text": [
      "       libelle  code_uic\n",
      "92  PARIS NORD  87271031\n",
      "                nom_gare  code_uic\n",
      "1814  Paris Gare du Nord  87758904\n"
     ]
    }
   ],
   "source": [
    "#Mise en évidence de l'erreur\n",
    "print(df_region_idf_initial[df_region_idf_initial['libelle']==\"PARIS NORD\"][['libelle', 'code_uic']])\n",
    "print(df_gares_manquantes[df_gares_manquantes['nom_gare']== \"Paris Gare du Nord\"][['nom_gare', 'code_uic']])"
   ]
  },
  {
   "cell_type": "code",
   "execution_count": 19,
   "id": "eaa3c57c-9a57-437d-bf0c-8482eadb02a1",
   "metadata": {},
   "outputs": [
    {
     "data": {
      "text/html": [
       "<div>\n",
       "<style scoped>\n",
       "    .dataframe tbody tr th:only-of-type {\n",
       "        vertical-align: middle;\n",
       "    }\n",
       "\n",
       "    .dataframe tbody tr th {\n",
       "        vertical-align: top;\n",
       "    }\n",
       "\n",
       "    .dataframe thead th {\n",
       "        text-align: right;\n",
       "    }\n",
       "</style>\n",
       "<table border=\"1\" class=\"dataframe\">\n",
       "  <thead>\n",
       "    <tr style=\"text-align: right;\">\n",
       "      <th></th>\n",
       "      <th>code_uic</th>\n",
       "      <th>uic7</th>\n",
       "      <th>libelle_point_d_arret</th>\n",
       "      <th>libelle</th>\n",
       "      <th>libelle_stif_info_voyageurs</th>\n",
       "      <th>libelle_sms_gare</th>\n",
       "      <th>nom_gare</th>\n",
       "      <th>adresse</th>\n",
       "      <th>code_insee_commune</th>\n",
       "      <th>commune</th>\n",
       "      <th>x_lambert_ii_etendu</th>\n",
       "      <th>y_lambert_ii_etendu</th>\n",
       "      <th>coord_gps_wgs84</th>\n",
       "      <th>zone_navigo</th>\n",
       "      <th>gare_non_sncf</th>\n",
       "    </tr>\n",
       "  </thead>\n",
       "  <tbody>\n",
       "    <tr>\n",
       "      <th>0</th>\n",
       "      <td>87113209</td>\n",
       "      <td>871132</td>\n",
       "      <td>PANTIN</td>\n",
       "      <td>PANTIN</td>\n",
       "      <td>GARE DE PANTIN</td>\n",
       "      <td>Pantin</td>\n",
       "      <td>Pantin</td>\n",
       "      <td>Avenue de la gare 93500 Pantin</td>\n",
       "      <td>93055</td>\n",
       "      <td>[Pantin]</td>\n",
       "      <td>604688.0</td>\n",
       "      <td>2433279.0</td>\n",
       "      <td>{'lon': 2.40040674765, 'lat': 48.8977738494}</td>\n",
       "      <td>2.0</td>\n",
       "      <td>0.0</td>\n",
       "    </tr>\n",
       "    <tr>\n",
       "      <th>1</th>\n",
       "      <td>87271031</td>\n",
       "      <td>872710</td>\n",
       "      <td>PARIS NORD (GARE DU NORD)</td>\n",
       "      <td>PARIS NORD</td>\n",
       "      <td>GARE DU NORD SURFACE</td>\n",
       "      <td>Gare du Nord</td>\n",
       "      <td>Gare du Nord Surface</td>\n",
       "      <td>None</td>\n",
       "      <td>75110</td>\n",
       "      <td>[Paris]</td>\n",
       "      <td>601529.0</td>\n",
       "      <td>2431239.0</td>\n",
       "      <td>{'lon': 2.35733955798, 'lat': 48.8794550008}</td>\n",
       "      <td>1.0</td>\n",
       "      <td>0.0</td>\n",
       "    </tr>\n",
       "  </tbody>\n",
       "</table>\n",
       "</div>"
      ],
      "text/plain": [
       "   code_uic    uic7      libelle_point_d_arret     libelle  \\\n",
       "0  87113209  871132                     PANTIN      PANTIN   \n",
       "1  87271031  872710  PARIS NORD (GARE DU NORD)  PARIS NORD   \n",
       "\n",
       "  libelle_stif_info_voyageurs libelle_sms_gare              nom_gare  \\\n",
       "0              GARE DE PANTIN           Pantin                Pantin   \n",
       "1        GARE DU NORD SURFACE     Gare du Nord  Gare du Nord Surface   \n",
       "\n",
       "                          adresse code_insee_commune   commune  \\\n",
       "0  Avenue de la gare 93500 Pantin              93055  [Pantin]   \n",
       "1                            None              75110   [Paris]   \n",
       "\n",
       "   x_lambert_ii_etendu  y_lambert_ii_etendu  \\\n",
       "0             604688.0            2433279.0   \n",
       "1             601529.0            2431239.0   \n",
       "\n",
       "                                coord_gps_wgs84  zone_navigo  gare_non_sncf  \n",
       "0  {'lon': 2.40040674765, 'lat': 48.8977738494}          2.0            0.0  \n",
       "1  {'lon': 2.35733955798, 'lat': 48.8794550008}          1.0            0.0  "
      ]
     },
     "execution_count": 19,
     "metadata": {},
     "output_type": "execute_result"
    }
   ],
   "source": [
    "#Rectification de l'erreur, puis réiteration de l'opération qui récupère uniquement les gares manquantes\n",
    "df_gares_manquantes.loc[df_gares_manquantes['nom_gare']==\"Paris Gare du Nord\", \"code_uic\"] = \"87271031\"\n",
    "df_region_idf = df_region_idf_initial[df_region_idf_initial.code_uic.isin(df_gares_manquantes['code_uic'])==True]\n",
    "\n",
    "#Pour simplifier, reset de l'index\n",
    "df_region_idf.reset_index(inplace = True)\n",
    "df_region_idf = df_region_idf.drop('index', axis=1)\n",
    "df_region_idf.head(2)"
   ]
  },
  {
   "cell_type": "code",
   "execution_count": 21,
   "id": "c4349e6f-ceba-4c28-8b6f-a2b7aa5bcde0",
   "metadata": {},
   "outputs": [
    {
     "data": {
      "text/html": [
       "<div>\n",
       "<style scoped>\n",
       "    .dataframe tbody tr th:only-of-type {\n",
       "        vertical-align: middle;\n",
       "    }\n",
       "\n",
       "    .dataframe tbody tr th {\n",
       "        vertical-align: top;\n",
       "    }\n",
       "\n",
       "    .dataframe thead th {\n",
       "        text-align: right;\n",
       "    }\n",
       "</style>\n",
       "<table border=\"1\" class=\"dataframe\">\n",
       "  <thead>\n",
       "    <tr style=\"text-align: right;\">\n",
       "      <th></th>\n",
       "      <th>code_uic</th>\n",
       "      <th>uic7</th>\n",
       "      <th>libelle_point_d_arret</th>\n",
       "      <th>libelle</th>\n",
       "      <th>libelle_stif_info_voyageurs</th>\n",
       "      <th>libelle_sms_gare</th>\n",
       "      <th>nom_gare</th>\n",
       "      <th>adresse</th>\n",
       "      <th>code_insee_commune</th>\n",
       "      <th>commune</th>\n",
       "      <th>x_lambert_ii_etendu</th>\n",
       "      <th>y_lambert_ii_etendu</th>\n",
       "      <th>coord_gps_wgs84</th>\n",
       "      <th>zone_navigo</th>\n",
       "      <th>gare_non_sncf</th>\n",
       "      <th>x_wgs84</th>\n",
       "      <th>y_wgs84</th>\n",
       "    </tr>\n",
       "  </thead>\n",
       "  <tbody>\n",
       "    <tr>\n",
       "      <th>0</th>\n",
       "      <td>87113209</td>\n",
       "      <td>871132</td>\n",
       "      <td>PANTIN</td>\n",
       "      <td>PANTIN</td>\n",
       "      <td>GARE DE PANTIN</td>\n",
       "      <td>Pantin</td>\n",
       "      <td>Pantin</td>\n",
       "      <td>Avenue de la gare 93500 Pantin</td>\n",
       "      <td>93055</td>\n",
       "      <td>[Pantin]</td>\n",
       "      <td>604688.0</td>\n",
       "      <td>2433279.0</td>\n",
       "      <td>{'lon': 2.40040674765, 'lat': 48.8977738494}</td>\n",
       "      <td>2.0</td>\n",
       "      <td>0.0</td>\n",
       "      <td>2.400407</td>\n",
       "      <td>48.897774</td>\n",
       "    </tr>\n",
       "    <tr>\n",
       "      <th>1</th>\n",
       "      <td>87271031</td>\n",
       "      <td>872710</td>\n",
       "      <td>PARIS NORD (GARE DU NORD)</td>\n",
       "      <td>PARIS NORD</td>\n",
       "      <td>GARE DU NORD SURFACE</td>\n",
       "      <td>Gare du Nord</td>\n",
       "      <td>Gare du Nord Surface</td>\n",
       "      <td>None</td>\n",
       "      <td>75110</td>\n",
       "      <td>[Paris]</td>\n",
       "      <td>601529.0</td>\n",
       "      <td>2431239.0</td>\n",
       "      <td>{'lon': 2.35733955798, 'lat': 48.8794550008}</td>\n",
       "      <td>1.0</td>\n",
       "      <td>0.0</td>\n",
       "      <td>2.357340</td>\n",
       "      <td>48.879455</td>\n",
       "    </tr>\n",
       "  </tbody>\n",
       "</table>\n",
       "</div>"
      ],
      "text/plain": [
       "   code_uic    uic7      libelle_point_d_arret     libelle  \\\n",
       "0  87113209  871132                     PANTIN      PANTIN   \n",
       "1  87271031  872710  PARIS NORD (GARE DU NORD)  PARIS NORD   \n",
       "\n",
       "  libelle_stif_info_voyageurs libelle_sms_gare              nom_gare  \\\n",
       "0              GARE DE PANTIN           Pantin                Pantin   \n",
       "1        GARE DU NORD SURFACE     Gare du Nord  Gare du Nord Surface   \n",
       "\n",
       "                          adresse code_insee_commune   commune  \\\n",
       "0  Avenue de la gare 93500 Pantin              93055  [Pantin]   \n",
       "1                            None              75110   [Paris]   \n",
       "\n",
       "   x_lambert_ii_etendu  y_lambert_ii_etendu  \\\n",
       "0             604688.0            2433279.0   \n",
       "1             601529.0            2431239.0   \n",
       "\n",
       "                                coord_gps_wgs84  zone_navigo  gare_non_sncf  \\\n",
       "0  {'lon': 2.40040674765, 'lat': 48.8977738494}          2.0            0.0   \n",
       "1  {'lon': 2.35733955798, 'lat': 48.8794550008}          1.0            0.0   \n",
       "\n",
       "    x_wgs84    y_wgs84  \n",
       "0  2.400407  48.897774  \n",
       "1  2.357340  48.879455  "
      ]
     },
     "execution_count": 21,
     "metadata": {},
     "output_type": "execute_result"
    }
   ],
   "source": [
    "#Récuperation des donnees gps pour la nouvelle base de donnees : séparation des données géographiques en 2 colonnes (latitude et longitude)\n",
    "df_region_idf['x_wgs84'] = [0]*len(df_region_idf)\n",
    "df_region_idf['y_wgs84'] = [0]*len(df_region_idf)\n",
    "\n",
    "for i in range(len(df_region_idf)):\n",
    "    df_region_idf.loc[i,'x_wgs84'] = df_region_idf['coord_gps_wgs84'][i]['lon']\n",
    "    df_region_idf.loc[i,'y_wgs84'] = df_region_idf['coord_gps_wgs84'][i]['lat']\n",
    "    \n",
    "df_region_idf.head(2)"
   ]
  },
  {
   "cell_type": "code",
   "execution_count": 22,
   "id": "dffbcbdf-8208-494f-a312-fcd5c0338b75",
   "metadata": {},
   "outputs": [
    {
     "data": {
      "text/html": [
       "<div>\n",
       "<style scoped>\n",
       "    .dataframe tbody tr th:only-of-type {\n",
       "        vertical-align: middle;\n",
       "    }\n",
       "\n",
       "    .dataframe tbody tr th {\n",
       "        vertical-align: top;\n",
       "    }\n",
       "\n",
       "    .dataframe thead th {\n",
       "        text-align: right;\n",
       "    }\n",
       "</style>\n",
       "<table border=\"1\" class=\"dataframe\">\n",
       "  <thead>\n",
       "    <tr style=\"text-align: right;\">\n",
       "      <th></th>\n",
       "      <th>code_uic</th>\n",
       "      <th>total_voyageurs_non_voyageurs_2020</th>\n",
       "      <th>nom_gare</th>\n",
       "      <th>x_wgs84</th>\n",
       "      <th>y_wgs84</th>\n",
       "      <th>log_total_voyageurs_non_voyageurs_2020</th>\n",
       "      <th>uic7</th>\n",
       "      <th>libelle_point_d_arret</th>\n",
       "      <th>libelle</th>\n",
       "      <th>libelle_stif_info_voyageurs</th>\n",
       "      <th>libelle_sms_gare</th>\n",
       "      <th>adresse</th>\n",
       "      <th>code_insee_commune</th>\n",
       "      <th>commune</th>\n",
       "      <th>x_lambert_ii_etendu</th>\n",
       "      <th>y_lambert_ii_etendu</th>\n",
       "      <th>coord_gps_wgs84</th>\n",
       "      <th>zone_navigo</th>\n",
       "      <th>gare_non_sncf</th>\n",
       "    </tr>\n",
       "  </thead>\n",
       "  <tbody>\n",
       "    <tr>\n",
       "      <th>0</th>\n",
       "      <td>87741132</td>\n",
       "      <td>1236162.0</td>\n",
       "      <td>Aix-les-Bains le Revard</td>\n",
       "      <td>5.908901</td>\n",
       "      <td>45.688112</td>\n",
       "      <td>14.027522</td>\n",
       "      <td>NaN</td>\n",
       "      <td>NaN</td>\n",
       "      <td>NaN</td>\n",
       "      <td>NaN</td>\n",
       "      <td>NaN</td>\n",
       "      <td>NaN</td>\n",
       "      <td>NaN</td>\n",
       "      <td>NaN</td>\n",
       "      <td>NaN</td>\n",
       "      <td>NaN</td>\n",
       "      <td>NaN</td>\n",
       "      <td>NaN</td>\n",
       "      <td>NaN</td>\n",
       "    </tr>\n",
       "    <tr>\n",
       "      <th>1</th>\n",
       "      <td>87741132</td>\n",
       "      <td>1236162.0</td>\n",
       "      <td>Aix-les-Bains le Revard</td>\n",
       "      <td>5.908892</td>\n",
       "      <td>45.688219</td>\n",
       "      <td>14.027522</td>\n",
       "      <td>NaN</td>\n",
       "      <td>NaN</td>\n",
       "      <td>NaN</td>\n",
       "      <td>NaN</td>\n",
       "      <td>NaN</td>\n",
       "      <td>NaN</td>\n",
       "      <td>NaN</td>\n",
       "      <td>NaN</td>\n",
       "      <td>NaN</td>\n",
       "      <td>NaN</td>\n",
       "      <td>NaN</td>\n",
       "      <td>NaN</td>\n",
       "      <td>NaN</td>\n",
       "    </tr>\n",
       "  </tbody>\n",
       "</table>\n",
       "</div>"
      ],
      "text/plain": [
       "   code_uic  total_voyageurs_non_voyageurs_2020                 nom_gare  \\\n",
       "0  87741132                           1236162.0  Aix-les-Bains le Revard   \n",
       "1  87741132                           1236162.0  Aix-les-Bains le Revard   \n",
       "\n",
       "    x_wgs84    y_wgs84  log_total_voyageurs_non_voyageurs_2020 uic7  \\\n",
       "0  5.908901  45.688112                               14.027522  NaN   \n",
       "1  5.908892  45.688219                               14.027522  NaN   \n",
       "\n",
       "  libelle_point_d_arret libelle libelle_stif_info_voyageurs libelle_sms_gare  \\\n",
       "0                   NaN     NaN                         NaN              NaN   \n",
       "1                   NaN     NaN                         NaN              NaN   \n",
       "\n",
       "  adresse code_insee_commune commune  x_lambert_ii_etendu  \\\n",
       "0     NaN                NaN     NaN                  NaN   \n",
       "1     NaN                NaN     NaN                  NaN   \n",
       "\n",
       "   y_lambert_ii_etendu coord_gps_wgs84  zone_navigo  gare_non_sncf  \n",
       "0                  NaN             NaN          NaN            NaN  \n",
       "1                  NaN             NaN          NaN            NaN  "
      ]
     },
     "execution_count": 22,
     "metadata": {},
     "output_type": "execute_result"
    }
   ],
   "source": [
    "#Enfin, concaténation des dataframes venant de l'API SNCF et de l'API région IDF\n",
    "df_complete_gares = pd.concat([df_gares_principales, df_region_idf], ignore_index = True)\n",
    "df_complete_gares.head(2)"
   ]
  },
  {
   "cell_type": "markdown",
   "id": "574a2c2f-cd33-42be-8261-df09db915de6",
   "metadata": {},
   "source": [
    "On finit, après pas mal d'ajustements, par obtenir le dataset souhaité des gares les plus fréquentées ainsi que leurs coordonnées GPS. On s'en reservira plus tard dans la partie Visualisation et Représentation Gprahique de ce travail."
   ]
  },
  {
   "cell_type": "markdown",
   "id": "3c835496-8757-491e-bd88-53f02207e6ce",
   "metadata": {},
   "source": [
    "### **1.2 Analyse des retards et des annulations de trains de la SNCF**"
   ]
  },
  {
   "cell_type": "markdown",
   "id": "d810ac63-d423-4c5d-9740-115794de333e",
   "metadata": {},
   "source": [
    "Pour cette partie, on travaille exclusivement sur le dataset **regularite-mensuelle-tgv-aqst** qui contient l'ensemble des données sur les retards et les annulations des lignes de TGV gérées par la SNCF. On commence par importer et nettoyer les données."
   ]
  },
  {
   "cell_type": "code",
   "execution_count": 23,
   "id": "87b9cb92-09ed-459a-8cd4-46667af82af9",
   "metadata": {},
   "outputs": [
    {
     "data": {
      "text/html": [
       "<div>\n",
       "<style scoped>\n",
       "    .dataframe tbody tr th:only-of-type {\n",
       "        vertical-align: middle;\n",
       "    }\n",
       "\n",
       "    .dataframe tbody tr th {\n",
       "        vertical-align: top;\n",
       "    }\n",
       "\n",
       "    .dataframe thead th {\n",
       "        text-align: right;\n",
       "    }\n",
       "</style>\n",
       "<table border=\"1\" class=\"dataframe\">\n",
       "  <thead>\n",
       "    <tr style=\"text-align: right;\">\n",
       "      <th></th>\n",
       "      <th>date</th>\n",
       "      <th>service</th>\n",
       "      <th>gare_depart</th>\n",
       "      <th>gare_arrivee</th>\n",
       "      <th>duree_moyenne</th>\n",
       "      <th>nb_train_prevu</th>\n",
       "      <th>nb_annulation</th>\n",
       "      <th>commentaire_annulation</th>\n",
       "      <th>nb_train_depart_retard</th>\n",
       "      <th>retard_moyen_depart</th>\n",
       "      <th>...</th>\n",
       "      <th>nb_train_retard_sup_15</th>\n",
       "      <th>retard_moyen_trains_retard_sup15</th>\n",
       "      <th>nb_train_retard_sup_30</th>\n",
       "      <th>nb_train_retard_sup_60</th>\n",
       "      <th>prct_cause_externe</th>\n",
       "      <th>prct_cause_infra</th>\n",
       "      <th>prct_cause_gestion_trafic</th>\n",
       "      <th>prct_cause_materiel_roulant</th>\n",
       "      <th>prct_cause_gestion_gare</th>\n",
       "      <th>prct_cause_prise_en_charge_voyageurs</th>\n",
       "    </tr>\n",
       "  </thead>\n",
       "  <tbody>\n",
       "    <tr>\n",
       "      <th>0</th>\n",
       "      <td>2018-01</td>\n",
       "      <td>National</td>\n",
       "      <td>ANGOULEME</td>\n",
       "      <td>PARIS MONTPARNASSE</td>\n",
       "      <td>125</td>\n",
       "      <td>270</td>\n",
       "      <td>4</td>\n",
       "      <td>None</td>\n",
       "      <td>135</td>\n",
       "      <td>5.710123</td>\n",
       "      <td>...</td>\n",
       "      <td>33</td>\n",
       "      <td>6.464975</td>\n",
       "      <td>9</td>\n",
       "      <td>0</td>\n",
       "      <td>26.923077</td>\n",
       "      <td>42.307692</td>\n",
       "      <td>9.615385</td>\n",
       "      <td>15.384615</td>\n",
       "      <td>3.846154</td>\n",
       "      <td>1.923077</td>\n",
       "    </tr>\n",
       "    <tr>\n",
       "      <th>1</th>\n",
       "      <td>2018-01</td>\n",
       "      <td>National</td>\n",
       "      <td>LYON PART DIEU</td>\n",
       "      <td>RENNES</td>\n",
       "      <td>232</td>\n",
       "      <td>88</td>\n",
       "      <td>2</td>\n",
       "      <td>None</td>\n",
       "      <td>50</td>\n",
       "      <td>7.033667</td>\n",
       "      <td>...</td>\n",
       "      <td>20</td>\n",
       "      <td>10.825581</td>\n",
       "      <td>9</td>\n",
       "      <td>2</td>\n",
       "      <td>10.526316</td>\n",
       "      <td>63.157895</td>\n",
       "      <td>10.526316</td>\n",
       "      <td>15.789474</td>\n",
       "      <td>0.000000</td>\n",
       "      <td>0.000000</td>\n",
       "    </tr>\n",
       "  </tbody>\n",
       "</table>\n",
       "<p>2 rows × 26 columns</p>\n",
       "</div>"
      ],
      "text/plain": [
       "      date   service     gare_depart        gare_arrivee  duree_moyenne  \\\n",
       "0  2018-01  National       ANGOULEME  PARIS MONTPARNASSE            125   \n",
       "1  2018-01  National  LYON PART DIEU              RENNES            232   \n",
       "\n",
       "   nb_train_prevu  nb_annulation commentaire_annulation  \\\n",
       "0             270              4                   None   \n",
       "1              88              2                   None   \n",
       "\n",
       "   nb_train_depart_retard  retard_moyen_depart  ...  nb_train_retard_sup_15  \\\n",
       "0                     135             5.710123  ...                      33   \n",
       "1                      50             7.033667  ...                      20   \n",
       "\n",
       "  retard_moyen_trains_retard_sup15  nb_train_retard_sup_30  \\\n",
       "0                         6.464975                       9   \n",
       "1                        10.825581                       9   \n",
       "\n",
       "   nb_train_retard_sup_60  prct_cause_externe prct_cause_infra  \\\n",
       "0                       0           26.923077        42.307692   \n",
       "1                       2           10.526316        63.157895   \n",
       "\n",
       "   prct_cause_gestion_trafic  prct_cause_materiel_roulant  \\\n",
       "0                   9.615385                    15.384615   \n",
       "1                  10.526316                    15.789474   \n",
       "\n",
       "   prct_cause_gestion_gare  prct_cause_prise_en_charge_voyageurs  \n",
       "0                 3.846154                              1.923077  \n",
       "1                 0.000000                              0.000000  \n",
       "\n",
       "[2 rows x 26 columns]"
      ]
     },
     "execution_count": 23,
     "metadata": {},
     "output_type": "execute_result"
    }
   ],
   "source": [
    "df_retards = importer('https://ressources.data.sncf.com/api/v2/catalog/datasets/regularite-mensuelle-tgv-aqst/exports/json?limit=-1&offset=0&timezone=UTC')\n",
    "df_retards.head(2)"
   ]
  },
  {
   "cell_type": "code",
   "execution_count": 24,
   "id": "a15cd9aa-055c-4aba-a087-2b1d597a37bb",
   "metadata": {},
   "outputs": [],
   "source": [
    "#on retire les colonnes de commentaires qui sont generalement vides\n",
    "df_retards = df_retards.drop('commentaire_annulation', axis = 1)\n",
    "df_retards = df_retards.drop('commentaire_retards_depart', axis = 1)\n",
    "df_retards = df_retards.drop('commentaires_retard_arrivee', axis = 1)"
   ]
  },
  {
   "cell_type": "code",
   "execution_count": 25,
   "id": "904089a7-6a02-430e-b298-92e4bd2bd639",
   "metadata": {},
   "outputs": [],
   "source": [
    "#on retire aussi les colonnes de NaN et dont les retards valent 0 qui ne nous interessent pas ici\n",
    "df_retards.dropna(inplace = True)\n",
    "df_retards = df_retards.drop(df_retards[df_retards['retard_moyen_arrivee']==0].index)"
   ]
  },
  {
   "cell_type": "code",
   "execution_count": 27,
   "id": "8d23a637-c550-4184-9880-d1ea6fd00cd2",
   "metadata": {},
   "outputs": [],
   "source": [
    "#on copie la dataframe initiale par securite\n",
    "df_retards_initial = df_retards.copy()"
   ]
  },
  {
   "cell_type": "markdown",
   "id": "74b9f55f-8868-4363-b749-956918f72cb7",
   "metadata": {},
   "source": [
    "On crée ensuite les colonnes susceptibles de nous interesser par la suite."
   ]
  },
  {
   "cell_type": "code",
   "execution_count": 28,
   "id": "2498e41c-3364-4b31-aa73-0c0e252df6c6",
   "metadata": {},
   "outputs": [],
   "source": [
    "df_retards['prct_nb_train_depart_retard'] = df_retards['nb_train_depart_retard']/df_retards['nb_train_prevu']*100\n",
    "df_retards['prct_nb_annulation'] = df_retards['nb_annulation']/df_retards['nb_train_prevu']*100\n",
    "df_retards['cause_materiel_roulant'] = df_retards['prct_cause_materiel_roulant']/100*df_retards['nb_train_retard_arrivee']\n",
    "df_retards['cause_infra'] = df_retards['prct_cause_infra']/100*df_retards['nb_train_retard_arrivee']\n",
    "df_retards['cause_gestion_trafic'] = df_retards['prct_cause_gestion_trafic']/100*df_retards['nb_train_retard_arrivee']\n",
    "df_retards['cause_externe'] = df_retards['prct_cause_externe']/100*df_retards['nb_train_retard_arrivee']\n",
    "df_retards['cause_gestion_gare'] = df_retards['prct_cause_gestion_gare']/100*df_retards['nb_train_retard_arrivee']\n",
    "df_retards['cause_prise_en_charge_voyageurs'] = df_retards['prct_cause_prise_en_charge_voyageurs']/100*df_retards['nb_train_retard_arrivee']"
   ]
  },
  {
   "cell_type": "code",
   "execution_count": 31,
   "id": "89b9f00f-98e8-47ce-8833-37bff2680b4b",
   "metadata": {},
   "outputs": [],
   "source": [
    "#On enlève les valeurs infini possibles dans les colonnes crées et on sépare la date en 2 colonnes distinctes selon le mois et l'année\n",
    "df_retards[df_retards['prct_nb_train_depart_retard'] == np.inf] = 0\n",
    "df_retards[df_retards['prct_nb_annulation'] == np.inf] = 0\n",
    "df_retards[['annee','mois']]=df_retards.date.str.split('-',expand=True)\n",
    "df_retards['annee'] = pd.to_numeric(df_retards['annee'])\n",
    "df_retards['mois'] = pd.to_numeric(df_retards['mois'])"
   ]
  },
  {
   "cell_type": "markdown",
   "id": "46ca288e-7546-4286-a80e-c023540e39eb",
   "metadata": {},
   "source": [
    "## **2. Analyse Descriptive et Représentation Graphique**"
   ]
  },
  {
   "cell_type": "markdown",
   "id": "12dfccb2-93fb-475c-9f81-a68ed5766b96",
   "metadata": {},
   "source": [
    "Dans cette partie, on se concentre sur des analyses statistiques des données qui nous intéressent et leurs représentation graphique. Cela nous permet de tirer les premières conclusions quant à l'état et l'évolution du réseau ferré français et de la fréquence des perturbations qu'il subit."
   ]
  },
  {
   "cell_type": "markdown",
   "id": "fe0993cd-6e5d-4266-816e-53b5d32f2449",
   "metadata": {},
   "source": [
    "### **1.1 Représentation du réseau ferré de la SNCF**"
   ]
  },
  {
   "cell_type": "markdown",
   "id": "7a787733-4291-4d2a-9a48-496210047d61",
   "metadata": {},
   "source": [
    "On va simplement utiliser le dataset crée dans la **partie 1.1** de la **partie 1.** afin de représenter les principales gares de la SNCF (en terme de fréquentation) sur une carte intérractive."
   ]
  },
  {
   "cell_type": "code",
   "execution_count": 34,
   "id": "70b43f3f-8456-46d1-8adf-f90e7a591455",
   "metadata": {},
   "outputs": [
    {
     "ename": "NameError",
     "evalue": "name 'folium' is not defined",
     "output_type": "error",
     "traceback": [
      "\u001b[0;31m---------------------------------------------------------------------------\u001b[0m",
      "\u001b[0;31mNameError\u001b[0m                                 Traceback (most recent call last)",
      "Cell \u001b[0;32mIn [34], line 3\u001b[0m\n\u001b[1;32m      1\u001b[0m \u001b[38;5;66;03m#Visualisation de la map des gares sur le territoire français avec une carte intéractive\u001b[39;00m\n\u001b[0;32m----> 3\u001b[0m m \u001b[38;5;241m=\u001b[39m \u001b[43mfolium\u001b[49m\u001b[38;5;241m.\u001b[39mMap(location\u001b[38;5;241m=\u001b[39m[\u001b[38;5;241m45.8666\u001b[39m, \u001b[38;5;241m2.3333\u001b[39m], min_zoom\u001b[38;5;241m=\u001b[39m\u001b[38;5;241m3\u001b[39m, max_zoom\u001b[38;5;241m=\u001b[39m\u001b[38;5;241m14\u001b[39m, zoom_start\u001b[38;5;241m=\u001b[39m\u001b[38;5;241m5.3\u001b[39m, tiles \u001b[38;5;241m=\u001b[39m \u001b[38;5;124m'\u001b[39m\u001b[38;5;124mStamen Terrain\u001b[39m\u001b[38;5;124m'\u001b[39m)\n\u001b[1;32m      4\u001b[0m \u001b[38;5;66;03m#affichage des gares principales dont on avait les donnees gps par l'API SNCF\u001b[39;00m\n\u001b[1;32m      5\u001b[0m \u001b[38;5;28;01mfor\u001b[39;00m i \u001b[38;5;129;01min\u001b[39;00m df_complete_gares\u001b[38;5;241m.\u001b[39mindex:\n",
      "\u001b[0;31mNameError\u001b[0m: name 'folium' is not defined"
     ]
    }
   ],
   "source": [
    "#Visualisation de la map des gares sur le territoire français avec une carte intéractive\n",
    "\n",
    "m = folium.Map(location=[45.8666, 2.3333], min_zoom=3, max_zoom=14, zoom_start=5.3, tiles = 'Stamen Terrain')\n",
    "#affichage des gares principales dont on avait les donnees gps par l'API SNCF\n",
    "for i in df_complete_gares.index:\n",
    "    tooltip = df_complete_gares['nom_gare'][i]\n",
    "    folium.Marker([df_complete_gares['y_wgs84'][i],df_complete_gares['x_wgs84'][i]], popup=df_complete_gares['nom_gare'][i], tooltip=tooltip).add_to(m)\n",
    "\n",
    "m"
   ]
  },
  {
   "cell_type": "code",
   "execution_count": null,
   "id": "055f6e2e-14d6-4c7c-a96a-a0eabc787b29",
   "metadata": {},
   "outputs": [],
   "source": []
  }
 ],
 "metadata": {
  "kernelspec": {
   "display_name": "Python 3 (ipykernel)",
   "language": "python",
   "name": "python3"
  },
  "language_info": {
   "codemirror_mode": {
    "name": "ipython",
    "version": 3
   },
   "file_extension": ".py",
   "mimetype": "text/x-python",
   "name": "python",
   "nbconvert_exporter": "python",
   "pygments_lexer": "ipython3",
   "version": "3.10.4"
  }
 },
 "nbformat": 4,
 "nbformat_minor": 5
}
