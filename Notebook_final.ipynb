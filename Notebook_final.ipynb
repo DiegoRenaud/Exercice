{
 "cells": [
  {
   "cell_type": "markdown",
   "id": "6f78be29-aff6-4898-b18c-25955a1721bf",
   "metadata": {},
   "source": [
    "# 🚂 **Analyse du réseau ferré de la SNCF: Comment expliquer les retards permanents de la compagnie française ?** 🚂"
   ]
  },
  {
   "cell_type": "markdown",
   "id": "d96d5e80-c977-4e7d-bbd3-51b05897c0eb",
   "metadata": {},
   "source": [
    "\n",
    "\n",
    "Comme tout bon étudiant provincial du plateau de Saclay, nous avons régulièrement eu à faire aux retards interminables des trains de la SNCF. A l'heure où le train est de plus en plus destiné à remplacer l'aviation civile ultra-polluante, nous avons voulu analyser l'évolution et les causes des retards que subissent fréquemment les usagers du réseau ferré français. \n",
    "\n",
    "Pour cela, nous avons basé notre analyse sur différentes bases de données rendues publiques et entretenues par la SNCF elle même. Ce travail a vocation à répondre aux exigences du cours de **Python pour la Data Science** de 2ème année de l'ENSAE Paris et reprend la même articulation en 3 axes: \n",
    "- Récupération et traitement des données\n",
    "- Analyse descriptive et représentation graphique\n",
    "- Modélisation \n",
    "\n",
    "Tout au long de ce notebook, nous ferons appel à des fonctions utiles définies dans le fichier **fonctions.py**. A la fin du travail d'analyse, nous vous proposons également un petit jeu intéractif bonus à ouvrir dans un autre éditeur de code que Jupyter. "
   ]
  },
  {
   "cell_type": "markdown",
   "id": "51cfd89d-0d39-43c1-ae24-77cfc083b738",
   "metadata": {
    "tags": []
   },
   "source": [
    "## **1. Récupération et traitement des données de l'API de la SNCF**"
   ]
  },
  {
   "cell_type": "markdown",
   "id": "655156b8-f3cc-4500-9c86-f1bb1c4e84e0",
   "metadata": {},
   "source": [
    "On commence par importer les librairies et les fonction définies dans le fichier **fonction.py**"
   ]
  },
  {
   "cell_type": "code",
   "execution_count": 42,
   "id": "8f526473-5d40-49e7-89b3-769585cba1a3",
   "metadata": {},
   "outputs": [],
   "source": [
    "from fonctions import *"
   ]
  },
  {
   "cell_type": "markdown",
   "id": "376905ca-6fc2-4e71-847c-0599e4597695",
   "metadata": {},
   "source": [
    "Nous avons commencé notre travail sur le site de l'API SNCF *https://ressources.data.sncf.com/api/v2/console*. Il propose d'accéder à plus de 216 datasets qui regroupent différents types de données concernant la SNCF. Le premier fichier que nous avons étudié est le **Catalogue** qui présente tous les autres datasets disponnibles sur l'API. C'est à partir de ce Catalogue que nous avons pu identifier les différents datasets utiles à nos analyses."
   ]
  },
  {
   "cell_type": "code",
   "execution_count": 43,
   "id": "d47e1546-075a-4c88-822e-7287523a6a0c",
   "metadata": {},
   "outputs": [
    {
     "data": {
      "text/html": [
       "<div>\n",
       "<style scoped>\n",
       "    .dataframe tbody tr th:only-of-type {\n",
       "        vertical-align: middle;\n",
       "    }\n",
       "\n",
       "    .dataframe tbody tr th {\n",
       "        vertical-align: top;\n",
       "    }\n",
       "\n",
       "    .dataframe thead th {\n",
       "        text-align: right;\n",
       "    }\n",
       "</style>\n",
       "<table border=\"1\" class=\"dataframe\">\n",
       "  <thead>\n",
       "    <tr style=\"text-align: right;\">\n",
       "      <th></th>\n",
       "      <th>dataset_id</th>\n",
       "    </tr>\n",
       "  </thead>\n",
       "  <tbody>\n",
       "    <tr>\n",
       "      <th>0</th>\n",
       "      <td>rapports-irc</td>\n",
       "    </tr>\n",
       "    <tr>\n",
       "      <th>1</th>\n",
       "      <td>info-ges</td>\n",
       "    </tr>\n",
       "  </tbody>\n",
       "</table>\n",
       "</div>"
      ],
      "text/plain": [
       "     dataset_id\n",
       "0  rapports-irc\n",
       "1      info-ges"
      ]
     },
     "execution_count": 43,
     "metadata": {},
     "output_type": "execute_result"
    }
   ],
   "source": [
    "df_catalogue = importer(\"https://ressources.data.sncf.com/api/v2/catalog/exports/json?limit=-1&offset=0&timezone=UTC\")\n",
    "pd.DataFrame(df_catalogue['dataset_id']).head(2)"
   ]
  },
  {
   "cell_type": "markdown",
   "id": "b77e8995-1916-44e0-aa80-147ad407817b",
   "metadata": {},
   "source": [
    "### **1.1 Analyse du réseau ferré de la SNCF**"
   ]
  },
  {
   "cell_type": "markdown",
   "id": "b09ccb63-2205-4935-9c3f-7a4d717b65bb",
   "metadata": {},
   "source": [
    "Pour commencer notre analyse, nous avons voulu identifier les stations SNCF les plus fréquentées afin d'avoir une meilleure idée du maillage du réseau ferré français. Nous allons chercher les données qui nous interessent dans les datasets **liste_des_gares** et **frequentations_gares** disponnibles sur l'API de la SNCF.\n"
   ]
  },
  {
   "cell_type": "markdown",
   "id": "a723bd7c-8ccd-4a22-bac6-dd654f07fe18",
   "metadata": {},
   "source": [
    "#### **1.1.1 Importation des données**"
   ]
  },
  {
   "cell_type": "code",
   "execution_count": 44,
   "id": "30c35adc-7c0e-4e98-b2db-08de9b902ab3",
   "metadata": {},
   "outputs": [
    {
     "data": {
      "text/html": [
       "<div>\n",
       "<style scoped>\n",
       "    .dataframe tbody tr th:only-of-type {\n",
       "        vertical-align: middle;\n",
       "    }\n",
       "\n",
       "    .dataframe tbody tr th {\n",
       "        vertical-align: top;\n",
       "    }\n",
       "\n",
       "    .dataframe thead th {\n",
       "        text-align: right;\n",
       "    }\n",
       "</style>\n",
       "<table border=\"1\" class=\"dataframe\">\n",
       "  <thead>\n",
       "    <tr style=\"text-align: right;\">\n",
       "      <th></th>\n",
       "      <th>code_uic</th>\n",
       "      <th>libelle</th>\n",
       "      <th>fret</th>\n",
       "      <th>voyageurs</th>\n",
       "      <th>code_ligne</th>\n",
       "      <th>rg_troncon</th>\n",
       "      <th>pk</th>\n",
       "      <th>commune</th>\n",
       "      <th>departemen</th>\n",
       "      <th>idreseau</th>\n",
       "      <th>idgaia</th>\n",
       "      <th>x_l93</th>\n",
       "      <th>y_l93</th>\n",
       "      <th>x_wgs84</th>\n",
       "      <th>y_wgs84</th>\n",
       "      <th>c_geo</th>\n",
       "      <th>geo_point_2d</th>\n",
       "      <th>geo_shape</th>\n",
       "    </tr>\n",
       "  </thead>\n",
       "  <tbody>\n",
       "    <tr>\n",
       "      <th>0</th>\n",
       "      <td>87755223</td>\n",
       "      <td>Bandol</td>\n",
       "      <td>N</td>\n",
       "      <td>O</td>\n",
       "      <td>930000</td>\n",
       "      <td>1</td>\n",
       "      <td>050+607</td>\n",
       "      <td>BANDOL</td>\n",
       "      <td>VAR</td>\n",
       "      <td>3077</td>\n",
       "      <td>29a5a626-dfbc-11e3-a2ff-01a464e0362d</td>\n",
       "      <td>923833.7169</td>\n",
       "      <td>6.230702e+06</td>\n",
       "      <td>5.749816</td>\n",
       "      <td>43.140491</td>\n",
       "      <td>{'lon': 5.749815526229215, 'lat': 43.140491048...</td>\n",
       "      <td>{'lon': 5.749815526229215, 'lat': 43.140491047...</td>\n",
       "      <td>{'type': 'Feature', 'geometry': {'coordinates'...</td>\n",
       "    </tr>\n",
       "    <tr>\n",
       "      <th>1</th>\n",
       "      <td>87696179</td>\n",
       "      <td>Pouilly-sur-Loire</td>\n",
       "      <td>O</td>\n",
       "      <td>O</td>\n",
       "      <td>750000</td>\n",
       "      <td>1</td>\n",
       "      <td>214+004</td>\n",
       "      <td>POUILLY-SUR-LOIRE</td>\n",
       "      <td>NIEVRE</td>\n",
       "      <td>6141</td>\n",
       "      <td>297a4c76-dfbc-11e3-a2ff-01a464e0362d</td>\n",
       "      <td>697358.2537</td>\n",
       "      <td>6.686913e+06</td>\n",
       "      <td>2.965051</td>\n",
       "      <td>47.282528</td>\n",
       "      <td>{'lon': 2.965051211539136, 'lat': 47.282528482...</td>\n",
       "      <td>{'lon': 2.965051211539134, 'lat': 47.282528481...</td>\n",
       "      <td>{'type': 'Feature', 'geometry': {'coordinates'...</td>\n",
       "    </tr>\n",
       "  </tbody>\n",
       "</table>\n",
       "</div>"
      ],
      "text/plain": [
       "   code_uic            libelle fret voyageurs code_ligne  rg_troncon       pk  \\\n",
       "0  87755223             Bandol    N         O     930000           1  050+607   \n",
       "1  87696179  Pouilly-sur-Loire    O         O     750000           1  214+004   \n",
       "\n",
       "             commune departemen  idreseau  \\\n",
       "0             BANDOL        VAR      3077   \n",
       "1  POUILLY-SUR-LOIRE     NIEVRE      6141   \n",
       "\n",
       "                                 idgaia        x_l93         y_l93   x_wgs84  \\\n",
       "0  29a5a626-dfbc-11e3-a2ff-01a464e0362d  923833.7169  6.230702e+06  5.749816   \n",
       "1  297a4c76-dfbc-11e3-a2ff-01a464e0362d  697358.2537  6.686913e+06  2.965051   \n",
       "\n",
       "     y_wgs84                                              c_geo  \\\n",
       "0  43.140491  {'lon': 5.749815526229215, 'lat': 43.140491048...   \n",
       "1  47.282528  {'lon': 2.965051211539136, 'lat': 47.282528482...   \n",
       "\n",
       "                                        geo_point_2d  \\\n",
       "0  {'lon': 5.749815526229215, 'lat': 43.140491047...   \n",
       "1  {'lon': 2.965051211539134, 'lat': 47.282528481...   \n",
       "\n",
       "                                           geo_shape  \n",
       "0  {'type': 'Feature', 'geometry': {'coordinates'...  \n",
       "1  {'type': 'Feature', 'geometry': {'coordinates'...  "
      ]
     },
     "execution_count": 44,
     "metadata": {},
     "output_type": "execute_result"
    }
   ],
   "source": [
    "#importation de la liste des gares, API SNCF\n",
    "df_gares = importer(\"https://ressources.data.sncf.com/api/v2/catalog/datasets/liste-des-gares/exports/json?limit=-1&offset=0&timezone=UTC\")\n",
    "df_gares.head(2)"
   ]
  },
  {
   "cell_type": "code",
   "execution_count": 45,
   "id": "ac489a0a-fc00-4ebe-aed9-5f5c6cd5374a",
   "metadata": {},
   "outputs": [
    {
     "data": {
      "text/html": [
       "<div>\n",
       "<style scoped>\n",
       "    .dataframe tbody tr th:only-of-type {\n",
       "        vertical-align: middle;\n",
       "    }\n",
       "\n",
       "    .dataframe tbody tr th {\n",
       "        vertical-align: top;\n",
       "    }\n",
       "\n",
       "    .dataframe thead th {\n",
       "        text-align: right;\n",
       "    }\n",
       "</style>\n",
       "<table border=\"1\" class=\"dataframe\">\n",
       "  <thead>\n",
       "    <tr style=\"text-align: right;\">\n",
       "      <th></th>\n",
       "      <th>nom_gare</th>\n",
       "      <th>code_uic_complet</th>\n",
       "      <th>code_postal</th>\n",
       "      <th>segmentation_drg</th>\n",
       "      <th>total_voyageurs_2021</th>\n",
       "      <th>total_voyageurs_non_voyageurs_2021</th>\n",
       "      <th>total_voyageurs_2020</th>\n",
       "      <th>total_voyageurs_non_voyageurs_2020</th>\n",
       "      <th>total_voyageurs_2019</th>\n",
       "      <th>total_voyageurs_non_voyageurs_2019</th>\n",
       "      <th>total_voyageurs_2018</th>\n",
       "      <th>total_voyageurs_non_voyageurs_2018</th>\n",
       "      <th>totalvoyageurs2017</th>\n",
       "      <th>total_voyageurs_non_voyageurs_2017</th>\n",
       "      <th>total_voyageurs_2016</th>\n",
       "      <th>total_voyageurs_non_voyageurs_2016</th>\n",
       "      <th>total_voyageurs_2015</th>\n",
       "      <th>total_voyageurs_non_voyageurs_2015</th>\n",
       "    </tr>\n",
       "  </thead>\n",
       "  <tbody>\n",
       "    <tr>\n",
       "      <th>0</th>\n",
       "      <td>Abbaretz</td>\n",
       "      <td>87481614</td>\n",
       "      <td>44170</td>\n",
       "      <td>c</td>\n",
       "      <td>27466</td>\n",
       "      <td>27466</td>\n",
       "      <td>22773</td>\n",
       "      <td>22773</td>\n",
       "      <td>38473</td>\n",
       "      <td>38473</td>\n",
       "      <td>38027</td>\n",
       "      <td>38027</td>\n",
       "      <td>35637</td>\n",
       "      <td>35637</td>\n",
       "      <td>33021</td>\n",
       "      <td>33021</td>\n",
       "      <td>35989</td>\n",
       "      <td>35989</td>\n",
       "    </tr>\n",
       "    <tr>\n",
       "      <th>1</th>\n",
       "      <td>Agay</td>\n",
       "      <td>87757559</td>\n",
       "      <td>83530</td>\n",
       "      <td>c</td>\n",
       "      <td>25094</td>\n",
       "      <td>25094</td>\n",
       "      <td>15390</td>\n",
       "      <td>15390</td>\n",
       "      <td>22284</td>\n",
       "      <td>22284</td>\n",
       "      <td>15093</td>\n",
       "      <td>15093</td>\n",
       "      <td>14154</td>\n",
       "      <td>14154</td>\n",
       "      <td>19240</td>\n",
       "      <td>19240</td>\n",
       "      <td>19121</td>\n",
       "      <td>19121</td>\n",
       "    </tr>\n",
       "  </tbody>\n",
       "</table>\n",
       "</div>"
      ],
      "text/plain": [
       "   nom_gare code_uic_complet code_postal segmentation_drg  \\\n",
       "0  Abbaretz         87481614       44170                c   \n",
       "1      Agay         87757559       83530                c   \n",
       "\n",
       "   total_voyageurs_2021  total_voyageurs_non_voyageurs_2021  \\\n",
       "0                 27466                               27466   \n",
       "1                 25094                               25094   \n",
       "\n",
       "   total_voyageurs_2020  total_voyageurs_non_voyageurs_2020  \\\n",
       "0                 22773                               22773   \n",
       "1                 15390                               15390   \n",
       "\n",
       "   total_voyageurs_2019  total_voyageurs_non_voyageurs_2019  \\\n",
       "0                 38473                               38473   \n",
       "1                 22284                               22284   \n",
       "\n",
       "   total_voyageurs_2018  total_voyageurs_non_voyageurs_2018  \\\n",
       "0                 38027                               38027   \n",
       "1                 15093                               15093   \n",
       "\n",
       "   totalvoyageurs2017  total_voyageurs_non_voyageurs_2017  \\\n",
       "0               35637                               35637   \n",
       "1               14154                               14154   \n",
       "\n",
       "   total_voyageurs_2016  total_voyageurs_non_voyageurs_2016  \\\n",
       "0                 33021                               33021   \n",
       "1                 19240                               19240   \n",
       "\n",
       "   total_voyageurs_2015  total_voyageurs_non_voyageurs_2015  \n",
       "0                 35989                               35989  \n",
       "1                 19121                               19121  "
      ]
     },
     "execution_count": 45,
     "metadata": {},
     "output_type": "execute_result"
    }
   ],
   "source": [
    "#importation des données sur la frequentation des gares, API SNCF\n",
    "df_freq_gares = importer(\"https://ressources.data.sncf.com/api/v2/catalog/datasets/frequentation-gares/exports/json?limit=-1&offset=0&timezone=UTC\")\n",
    "df_freq_gares.head(2)"
   ]
  },
  {
   "cell_type": "code",
   "execution_count": 46,
   "id": "5ba74b2f-0734-4be0-8661-4574ba2b4f0f",
   "metadata": {},
   "outputs": [
    {
     "name": "stdout",
     "output_type": "stream",
     "text": [
      "2970\n",
      "3819\n"
     ]
    }
   ],
   "source": [
    "#comparaison du nombre de données (moins de données sur la fréquentation)\n",
    "print(len(df_freq_gares))\n",
    "print(len(df_gares))"
   ]
  },
  {
   "cell_type": "markdown",
   "id": "9881017c-814f-4702-87b4-c525b5e2c123",
   "metadata": {},
   "source": [
    "#### **1.1.2 Constitution de la base de données (nettoyage, fusion, et concaténation de données)**"
   ]
  },
  {
   "cell_type": "markdown",
   "id": "8a9ee250-8e52-4c13-bb9c-34e83dc3665c",
   "metadata": {},
   "source": [
    "On va travailler sur les 2 datasets importés afin de créer notre base de données des gares SNCF les plus fréquentées."
   ]
  },
  {
   "cell_type": "code",
   "execution_count": 47,
   "id": "8d956437-f3e6-4e42-879b-4c910f56dabe",
   "metadata": {},
   "outputs": [],
   "source": [
    "#Harmonisation du nom de la colonne code_uic en vue du merge\n",
    "df_freq_gares.rename(columns = {'code_uic_complet':'code_uic'}, inplace = True)"
   ]
  },
  {
   "cell_type": "code",
   "execution_count": 48,
   "id": "1f02ca9f-5bf3-457f-9d45-b560b16f2755",
   "metadata": {},
   "outputs": [
    {
     "data": {
      "text/html": [
       "<div>\n",
       "<style scoped>\n",
       "    .dataframe tbody tr th:only-of-type {\n",
       "        vertical-align: middle;\n",
       "    }\n",
       "\n",
       "    .dataframe tbody tr th {\n",
       "        vertical-align: top;\n",
       "    }\n",
       "\n",
       "    .dataframe thead th {\n",
       "        text-align: right;\n",
       "    }\n",
       "</style>\n",
       "<table border=\"1\" class=\"dataframe\">\n",
       "  <thead>\n",
       "    <tr style=\"text-align: right;\">\n",
       "      <th></th>\n",
       "      <th>code_uic</th>\n",
       "      <th>libelle</th>\n",
       "    </tr>\n",
       "  </thead>\n",
       "  <tbody>\n",
       "    <tr>\n",
       "      <th>3</th>\n",
       "      <td>87784488</td>\n",
       "      <td>Cases-de-Pène</td>\n",
       "    </tr>\n",
       "    <tr>\n",
       "      <th>12</th>\n",
       "      <td>87396671</td>\n",
       "      <td>La Chartre-sur-le-Loir</td>\n",
       "    </tr>\n",
       "  </tbody>\n",
       "</table>\n",
       "</div>"
      ],
      "text/plain": [
       "    code_uic                 libelle\n",
       "3   87784488           Cases-de-Pène\n",
       "12  87396671  La Chartre-sur-le-Loir"
      ]
     },
     "execution_count": 48,
     "metadata": {},
     "output_type": "execute_result"
    }
   ],
   "source": [
    "#On regarde quelles gares du dataframe \"liste des gares\" ne sont pas dans le dataframe \"frequentations\"\n",
    "outer_merged = pd.merge(df_gares, df_freq_gares, how=\"outer\", on=[\"code_uic\"])\n",
    "outer_merged[outer_merged['nom_gare'].isna()==True][['code_uic', 'libelle']].head(2)"
   ]
  },
  {
   "cell_type": "markdown",
   "id": "f2b4b79d-aabb-4757-b023-5cdd190bbbc6",
   "metadata": {},
   "source": [
    "Ce ne sont que des petites gares et comme nous nous intéressons aux gares les plus fréquentées, non allons considérer seulement celles du dataset des fréquentation."
   ]
  },
  {
   "cell_type": "code",
   "execution_count": 49,
   "id": "a0dca828-7205-4f9b-ad1d-85299568a185",
   "metadata": {},
   "outputs": [
    {
     "data": {
      "text/html": [
       "<div>\n",
       "<style scoped>\n",
       "    .dataframe tbody tr th:only-of-type {\n",
       "        vertical-align: middle;\n",
       "    }\n",
       "\n",
       "    .dataframe tbody tr th {\n",
       "        vertical-align: top;\n",
       "    }\n",
       "\n",
       "    .dataframe thead th {\n",
       "        text-align: right;\n",
       "    }\n",
       "</style>\n",
       "<table border=\"1\" class=\"dataframe\">\n",
       "  <thead>\n",
       "    <tr style=\"text-align: right;\">\n",
       "      <th></th>\n",
       "      <th>code_uic</th>\n",
       "      <th>total_voyageurs_non_voyageurs_2020</th>\n",
       "      <th>nom_gare</th>\n",
       "      <th>x_wgs84</th>\n",
       "      <th>y_wgs84</th>\n",
       "    </tr>\n",
       "  </thead>\n",
       "  <tbody>\n",
       "    <tr>\n",
       "      <th>0</th>\n",
       "      <td>87481614</td>\n",
       "      <td>22773</td>\n",
       "      <td>Abbaretz</td>\n",
       "      <td>-1.524313</td>\n",
       "      <td>47.555462</td>\n",
       "    </tr>\n",
       "    <tr>\n",
       "      <th>1</th>\n",
       "      <td>87757559</td>\n",
       "      <td>15390</td>\n",
       "      <td>Agay</td>\n",
       "      <td>6.856677</td>\n",
       "      <td>43.431734</td>\n",
       "    </tr>\n",
       "  </tbody>\n",
       "</table>\n",
       "</div>"
      ],
      "text/plain": [
       "   code_uic  total_voyageurs_non_voyageurs_2020  nom_gare   x_wgs84    y_wgs84\n",
       "0  87481614                               22773  Abbaretz -1.524313  47.555462\n",
       "1  87757559                               15390      Agay  6.856677  43.431734"
      ]
     },
     "execution_count": 49,
     "metadata": {},
     "output_type": "execute_result"
    }
   ],
   "source": [
    "#Fusion des dataframes sur la base de df_freq_gares avec un left merge\n",
    "left_merged = pd.merge(df_freq_gares, df_gares, how=\"left\", on=[\"code_uic\"])\n",
    "df_gares_merged = left_merged[['code_uic','total_voyageurs_non_voyageurs_2020', 'nom_gare', 'x_wgs84','y_wgs84']]\n",
    "df_gares_merged.head(2)"
   ]
  },
  {
   "cell_type": "code",
   "execution_count": 50,
   "id": "40d12d16-19cd-4d1d-9c7c-bcdb8c2d04e8",
   "metadata": {},
   "outputs": [],
   "source": [
    "#Elimination des gares dont la frequentation est nulle\n",
    "df_gares_merged = df_gares_merged.drop(df_gares_merged[df_gares_merged['total_voyageurs_non_voyageurs_2020']==0].index)"
   ]
  },
  {
   "cell_type": "code",
   "execution_count": 51,
   "id": "8aec30f3-5f36-47fa-ac6a-af1c1f26e4d8",
   "metadata": {},
   "outputs": [
    {
     "data": {
      "image/png": "[encoded data removed]",
      "text/plain": [
       "<Figure size 640x480 with 1 Axes>"
      ]
     },
     "metadata": {},
     "output_type": "display_data"
    }
   ],
   "source": [
    "#Visualisation de la répartition des fréquentations par gare\n",
    "plt.hist(df_gares_merged['total_voyageurs_non_voyageurs_2020'])\n",
    "plt.show()"
   ]
  },
  {
   "cell_type": "markdown",
   "id": "c8b3fdf8-d1d2-4e0e-9748-64e97e23d63a",
   "metadata": {},
   "source": [
    "On remarque que pour mieux apprécier les fréquentations, il est nécessaire de passer au log."
   ]
  },
  {
   "cell_type": "code",
   "execution_count": null,
   "id": "228f7fd8-3dc9-4757-adeb-2ee2ce61eb82",
   "metadata": {},
   "outputs": [],
   "source": []
  },
  {
   "cell_type": "code",
   "execution_count": null,
   "id": "b8fdcf70-f10a-4fa9-ad7c-0b7b2f203206",
   "metadata": {},
   "outputs": [],
   "source": []
  }
 ],
 "metadata": {
  "kernelspec": {
   "display_name": "Python 3 (ipykernel)",
   "language": "python",
   "name": "python3"
  },
  "language_info": {
   "codemirror_mode": {
    "name": "ipython",
    "version": 3
   },
   "file_extension": ".py",
   "mimetype": "text/x-python",
   "name": "python",
   "nbconvert_exporter": "python",
   "pygments_lexer": "ipython3",
   "version": "3.10.4"
  }
 },
 "nbformat": 4,
 "nbformat_minor": 5
}
