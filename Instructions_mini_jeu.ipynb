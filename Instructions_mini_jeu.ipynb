{
 "cells": [
  {
   "cell_type": "markdown",
   "id": "63acf092-8bc7-4263-898f-7c6487685939",
   "metadata": {},
   "source": [
    "# Instructions mini-jeu"
   ]
  },
  {
   "cell_type": "markdown",
   "id": "5402da45-e39a-4be4-acf6-ac94c857cf78",
   "metadata": {},
   "source": [
    "Votre rôle est d'éviter les retards rencontrés par les trains. Pour cela, un seul but : ne surtout pas entrer en collision avec les déclencheurs de retards qui tombent du ciel !"
   ]
  },
  {
   "cell_type": "markdown",
   "id": "46c17276-7166-4903-b940-2f08f1d3869d",
   "metadata": {},
   "source": [
    "**/!\\ Points d'attention :**\n",
    "- pour que le jeu fonctionne, il ne peut pas être lancé depuis un notebook (VS code fonctionne par exemple)\n",
    "- il faut s'assurer d'avoir installé le module pygame avec !pip install pygame\n",
    "- la version python utilisée doit être assez récente pour éviter les erreurs"
   ]
  },
  {
   "cell_type": "markdown",
   "id": "1256e218-c431-4452-bd8f-a388d42f8b35",
   "metadata": {},
   "source": [
    "Si vous entrer en collision avec :"
   ]
  },
  {
   "cell_type": "markdown",
   "id": "99ef5d96-b8d3-4301-8cb0-ca7af1df456a",
   "metadata": {},
   "source": [
    "<img src=\"mini_jeu/assets/externe.png\" alt=\"Drawing\" style=\"width: 100px;\"/>\n",
    "\n",
    "**Retard !** Vous vous êtes heurté à un déclencheur externe : pas de chance, c'est ce qui entraîne le plus de retards.\n",
    "\n",
    "<img src=\"mini_jeu/assets/trafic.png\" alt=\"Drawing\" style=\"width: 100px;\"/>\n",
    "\n",
    "**Retard !** Vous vous êtes heurté à un problème de gestion de trafic\n",
    "\n",
    "<img src=\"mini_jeu/assets/mat_roulant.png\" alt=\"Drawing\" style=\"width: 100px;\"/>\n",
    "\n",
    "**Retard !** Vous vous êtes heurté à un problème avec le materiel roulant\n",
    "\n",
    "<img src=\"mini_jeu/assets/voyageur.png\" alt=\"Drawing\" style=\"width: 100px;\"/>\n",
    "\n",
    "**Retard !** Vous vous êtes heurté à un problème de gestion voyageur\n",
    "\n",
    "<img src=\"mini_jeu/assets/infra.png\" alt=\"Drawing\" style=\"width: 100px;\"/>\n",
    "\n",
    "**Retard !** Vous vous êtes heurté à un incident infrastructure\n",
    "\n",
    "<img src=\"mini_jeu/assets/gestion_gare.png\" alt=\"Drawing\" style=\"width: 100px;\"/>\n",
    "\n",
    "**Retard !** Vous vous êtes heurté à un problème de gestion de gare"
   ]
  },
  {
   "cell_type": "code",
   "execution_count": null,
   "id": "a9f73ea3-5ca3-44fe-a9d5-9fd4776eaf0d",
   "metadata": {},
   "outputs": [],
   "source": []
  }
 ],
 "metadata": {
  "kernelspec": {
   "display_name": "",
   "name": ""
  },
  "language_info": {
   "name": ""
  }
 },
 "nbformat": 4,
 "nbformat_minor": 5
}
