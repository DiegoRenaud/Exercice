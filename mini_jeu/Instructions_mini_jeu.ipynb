{
 "cells": [
  {
   "cell_type": "markdown",
   "id": "63acf092-8bc7-4263-898f-7c6487685939",
   "metadata": {},
   "source": [
    "# Instructions mini-jeu"
   ]
  },
  {
   "cell_type": "markdown",
   "id": "5402da45-e39a-4be4-acf6-ac94c857cf78",
   "metadata": {},
   "source": [
    "Votre rôle est d'éviter les retards rencontrés par les trains. Pour cela, un seul but : ne surtout pas entrer en collision avec les déclencheurs de retards qui tombent du ciel ! Faites bouger le train de gauche à droite avec les flèches pour éviter les projectiles."
   ]
  },
  {
   "cell_type": "markdown",
   "id": "46c17276-7166-4903-b940-2f08f1d3869d",
   "metadata": {},
   "source": [
    "**/!\\ Points d'attention :**\n",
    "- pour que le jeu fonctionne, il ne peut pas être lancé depuis un notebook Jupyter (VS code fonctionne par exemple)\n",
    "- il faut s'assurer d'avoir installé le module pygame avec !pip install pygame\n",
    "- la version python utilisée doit être assez récente (3.7.4 fonctionne), il est parfois nécessaire sur VS code de changer d'interprêteur avec Ctrl + Maj + P (Command + Maj + P sur mac)\n",
    "- il faut le lancer sur un environnement qui autorise les fenêtres pop-up (VS code à partir de sspcloud ne fonctionne pas)\n",
    "- pour faire tourner le jeu, il suffit de faire tourner le fichier **game.py**"
   ]
  },
  {
   "cell_type": "markdown",
   "id": "214f43f5-1ba3-4329-9cf1-dbc6e6c51ddd",
   "metadata": {},
   "source": [
    "**Aperçu :**"
   ]
  },
  {
   "cell_type": "markdown",
   "id": "e2f4360b-3592-4248-923e-e0294f1c0203",
   "metadata": {},
   "source": [
    "<img src=\"assets/apercu_jeu.png\" alt=\"Drawing\" style=\"width: 300px;\"/>"
   ]
  },
  {
   "cell_type": "markdown",
   "id": "1256e218-c431-4452-bd8f-a388d42f8b35",
   "metadata": {},
   "source": [
    "Si vous entrer en collision avec :"
   ]
  },
  {
   "cell_type": "markdown",
   "id": "99ef5d96-b8d3-4301-8cb0-ca7af1df456a",
   "metadata": {},
   "source": [
    "<img src=\"assets/externe.png\" alt=\"Drawing\" style=\"width: 100px;\"/>\n",
    "\n",
    "**Retard !** Vous vous êtes heurté à un déclencheur externe : pas de chance, c'est ce qui entraîne le plus de retards.\n",
    "\n",
    "<img src=\"assets/trafic.png\" alt=\"Drawing\" style=\"width: 100px;\"/>\n",
    "\n",
    "**Retard !** Vous vous êtes heurté à un problème de gestion de trafic\n",
    "\n",
    "<img src=\"assets/mat_roulant.png\" alt=\"Drawing\" style=\"width: 100px;\"/>\n",
    "\n",
    "**Retard !** Vous vous êtes heurté à un problème avec le materiel roulant\n",
    "\n",
    "<img src=\"assets/voyageur.png\" alt=\"Drawing\" style=\"width: 100px;\"/>\n",
    "\n",
    "**Retard !** Vous vous êtes heurté à un problème de gestion voyageur\n",
    "\n",
    "<img src=\"assets/infra.png\" alt=\"Drawing\" style=\"width: 100px;\"/>\n",
    "\n",
    "**Retard !** Vous vous êtes heurté à un incident infrastructure\n",
    "\n",
    "<img src=\"assets/gestion_gare.png\" alt=\"Drawing\" style=\"width: 100px;\"/>\n",
    "\n",
    "**Retard !** Vous vous êtes heurté à un problème de gestion de gare"
   ]
  },
  {
   "cell_type": "code",
   "execution_count": null,
   "id": "49ea4488-b98f-476d-8aaf-a107bb977a72",
   "metadata": {},
   "outputs": [],
   "source": []
  }
 ],
 "metadata": {
  "kernelspec": {
   "display_name": "Python 3 (ipykernel)",
   "language": "python",
   "name": "python3"
  },
  "language_info": {
   "codemirror_mode": {
    "name": "ipython",
    "version": 3
   },
   "file_extension": ".py",
   "mimetype": "text/x-python",
   "name": "python",
   "nbconvert_exporter": "python",
   "pygments_lexer": "ipython3",
   "version": "3.10.4"
  }
 },
 "nbformat": 4,
 "nbformat_minor": 5
}
