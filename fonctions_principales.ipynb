{
 "cells": [
  {
   "cell_type": "code",
   "execution_count": 10,
   "id": "6fd7fc23-0367-4946-8de4-78d4e5b97632",
   "metadata": {},
   "outputs": [],
   "source": [
    "import requests\n",
    "import pandas as pd"
   ]
  },
  {
   "cell_type": "code",
   "execution_count": 11,
   "id": "354c848e-a6d2-40a8-9f63-8bf68a901582",
   "metadata": {},
   "outputs": [],
   "source": [
    "causes_retards_large = ['nb_annulation', 'nb_train_prevu', 'cause_materiel_roulant', 'cause_infra', 'cause_gestion_trafic', 'cause_externe', 'cause_gestion_gare', 'cause_prise_en_charge_voyageurs']"
   ]
  },
  {
   "cell_type": "code",
   "execution_count": 12,
   "id": "32ac055c-c6df-4e7e-869d-4403237126d9",
   "metadata": {},
   "outputs": [],
   "source": [
    "#importation des donnees\n",
    "def importer(url):\n",
    "    contenu = requests.get(url)\n",
    "    wb = contenu.json()\n",
    "    df = pd.DataFrame(wb)\n",
    "    return(df)"
   ]
  },
  {
   "cell_type": "code",
   "execution_count": 13,
   "id": "6d3242a9-be9d-4364-9ac8-8b644fb4338d",
   "metadata": {},
   "outputs": [],
   "source": [
    "def regression(x, y):\n",
    "    x_reg = sm.add_constant(x)\n",
    "    y_reg = y.values.ravel()\n",
    "    xTrain, xTest, yTrain, yTest = train_test_split(x, y, test_size=0.2)\n",
    "    return(sm.OLS(yTrain, xTrain).fit())"
   ]
  },
  {
   "cell_type": "code",
   "execution_count": null,
   "id": "aad33164-42f5-4fe3-8521-057d14b8cf52",
   "metadata": {},
   "outputs": [],
   "source": []
  }
 ],
 "metadata": {
  "kernelspec": {
   "display_name": "Python 3 (ipykernel)",
   "language": "python",
   "name": "python3"
  },
  "language_info": {
   "codemirror_mode": {
    "name": "ipython",
    "version": 3
   },
   "file_extension": ".py",
   "mimetype": "text/x-python",
   "name": "python",
   "nbconvert_exporter": "python",
   "pygments_lexer": "ipython3",
   "version": "3.10.4"
  }
 },
 "nbformat": 4,
 "nbformat_minor": 5
}
